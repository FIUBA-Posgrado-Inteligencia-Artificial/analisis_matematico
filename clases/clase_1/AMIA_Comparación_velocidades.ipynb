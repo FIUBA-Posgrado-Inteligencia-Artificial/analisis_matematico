{
  "nbformat": 4,
  "nbformat_minor": 0,
  "metadata": {
    "colab": {
      "provenance": []
    },
    "kernelspec": {
      "name": "python3",
      "display_name": "Python 3"
    },
    "language_info": {
      "name": "python"
    },
    "accelerator": "GPU",
    "gpuClass": "standard"
  },
  "cells": [
    {
      "cell_type": "code",
      "execution_count": null,
      "metadata": {
        "id": "64kZ7EiYIO3j"
      },
      "outputs": [],
      "source": [
        "import torch\n",
        "import numpy as np\n",
        "\n",
        "import matplotlib.pyplot as plt"
      ]
    },
    {
      "cell_type": "code",
      "source": [
        "def matmuls(mat_sz=100, use_gpu=False):\n",
        "  device = \"cuda\" if use_gpu else \"cpu\"\n",
        "  A = torch.randn(mat_sz, mat_sz, device=device)\n",
        "  B = torch.randn(mat_sz, mat_sz, device=device)\n",
        "  C = torch.randn(mat_sz, mat_sz, device=device)\n",
        "\n",
        "  D = torch.matmul(A, B)\n",
        "  E = torch.matmul(C, D)\n",
        "\n",
        "  F = D + 3*E\n",
        "  return F"
      ],
      "metadata": {
        "id": "1ru-amzFKtkp"
      },
      "execution_count": null,
      "outputs": []
    },
    {
      "cell_type": "code",
      "source": [
        "%%timeit\n",
        "matmuls(mat_sz=100, use_gpu=False)"
      ],
      "metadata": {
        "colab": {
          "base_uri": "https://localhost:8080/"
        },
        "id": "eZSKz9q6MYx_",
        "outputId": "6c2de4ec-0c92-4086-a53e-86112b03598e"
      },
      "execution_count": null,
      "outputs": [
        {
          "output_type": "stream",
          "name": "stdout",
          "text": [
            "379 µs ± 104 µs per loop (mean ± std. dev. of 7 runs, 1000 loops each)\n"
          ]
        }
      ]
    },
    {
      "cell_type": "code",
      "source": [
        "%%timeit\n",
        "matmuls(mat_sz=100, use_gpu=True)"
      ],
      "metadata": {
        "colab": {
          "base_uri": "https://localhost:8080/"
        },
        "id": "wCIqLRJlMfFT",
        "outputId": "32342beb-7d44-488d-c8ff-1f2f0da24e6b"
      },
      "execution_count": null,
      "outputs": [
        {
          "output_type": "stream",
          "name": "stdout",
          "text": [
            "92.5 µs ± 27.9 µs per loop (mean ± std. dev. of 7 runs, 1 loop each)\n"
          ]
        }
      ]
    },
    {
      "cell_type": "code",
      "source": [
        "337/92.5"
      ],
      "metadata": {
        "colab": {
          "base_uri": "https://localhost:8080/"
        },
        "id": "Kv6o58QTYJG2",
        "outputId": "be1ef9a2-ea9e-4e08-a290-9357b4107f13"
      },
      "execution_count": null,
      "outputs": [
        {
          "output_type": "execute_result",
          "data": {
            "text/plain": [
              "3.6432432432432433"
            ]
          },
          "metadata": {},
          "execution_count": 5
        }
      ]
    },
    {
      "cell_type": "code",
      "source": [
        "%%timeit\n",
        "matmuls(mat_sz=1000, use_gpu=False)"
      ],
      "metadata": {
        "colab": {
          "base_uri": "https://localhost:8080/"
        },
        "id": "taRj8UbfMItW",
        "outputId": "d398ef6a-8fc7-4e3c-8b4f-61e1f02e408c"
      },
      "execution_count": null,
      "outputs": [
        {
          "output_type": "stream",
          "name": "stdout",
          "text": [
            "76.1 ms ± 19.4 ms per loop (mean ± std. dev. of 7 runs, 10 loops each)\n"
          ]
        }
      ]
    },
    {
      "cell_type": "code",
      "source": [
        "%%timeit\n",
        "matmuls(mat_sz=1000, use_gpu=True)"
      ],
      "metadata": {
        "colab": {
          "base_uri": "https://localhost:8080/"
        },
        "id": "Rb7VHkU6MQ4V",
        "outputId": "dc8858ce-f90e-4922-eefd-31792249ca59"
      },
      "execution_count": null,
      "outputs": [
        {
          "output_type": "stream",
          "name": "stdout",
          "text": [
            "1.43 ms ± 20.8 µs per loop (mean ± std. dev. of 7 runs, 1000 loops each)\n"
          ]
        }
      ]
    },
    {
      "cell_type": "code",
      "source": [
        "76.1/1.43"
      ],
      "metadata": {
        "colab": {
          "base_uri": "https://localhost:8080/"
        },
        "id": "FTAXiqPeMgjJ",
        "outputId": "6826d3b3-79df-490f-9601-de1edba5c459"
      },
      "execution_count": null,
      "outputs": [
        {
          "output_type": "execute_result",
          "data": {
            "text/plain": [
              "53.21678321678321"
            ]
          },
          "metadata": {},
          "execution_count": 9
        }
      ]
    },
    {
      "cell_type": "code",
      "source": [
        "%%timeit\n",
        "matmuls(mat_sz=5000, use_gpu=False)"
      ],
      "metadata": {
        "colab": {
          "base_uri": "https://localhost:8080/"
        },
        "id": "DkWi-HERYtTu",
        "outputId": "976706c0-9712-48f4-ad6b-60a2e3d93f89"
      },
      "execution_count": null,
      "outputs": [
        {
          "output_type": "stream",
          "name": "stdout",
          "text": [
            "4.95 s ± 386 ms per loop (mean ± std. dev. of 7 runs, 1 loop each)\n"
          ]
        }
      ]
    },
    {
      "cell_type": "code",
      "source": [
        "%%timeit -n 1000 -r 3\n",
        "matmuls(mat_sz=5000, use_gpu=True)"
      ],
      "metadata": {
        "colab": {
          "base_uri": "https://localhost:8080/"
        },
        "id": "nPodoj7hYxSu",
        "outputId": "15310f94-29a5-4bc5-8d60-4d0ace435c2d"
      },
      "execution_count": null,
      "outputs": [
        {
          "output_type": "stream",
          "name": "stdout",
          "text": [
            "146 ms ± 10.4 ms per loop (mean ± std. dev. of 3 runs, 1000 loops each)\n"
          ]
        }
      ]
    },
    {
      "cell_type": "code",
      "source": [
        "4.95/0.146"
      ],
      "metadata": {
        "colab": {
          "base_uri": "https://localhost:8080/"
        },
        "id": "xzbC1NjBc4NE",
        "outputId": "9389320d-b006-428c-f2b8-2eb6534043f5"
      },
      "execution_count": null,
      "outputs": [
        {
          "output_type": "execute_result",
          "data": {
            "text/plain": [
              "33.9041095890411"
            ]
          },
          "metadata": {},
          "execution_count": 16
        }
      ]
    },
    {
      "cell_type": "code",
      "source": [],
      "metadata": {
        "id": "HAI7cMagfDY2"
      },
      "execution_count": null,
      "outputs": []
    }
  ]
}