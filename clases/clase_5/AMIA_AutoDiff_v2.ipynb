{
  "nbformat": 4,
  "nbformat_minor": 0,
  "metadata": {
    "colab": {
      "provenance": []
    },
    "kernelspec": {
      "name": "python3",
      "display_name": "Python 3"
    },
    "language_info": {
      "name": "python"
    }
  },
  "cells": [
    {
      "cell_type": "markdown",
      "source": [
        "# Diferenciación Automática (v2)\n",
        "\n",
        "En este colab vamos a explorar una implementación de un grafo de cómputo y algunas operaciones soportadas (podríamos agregarle todas las que querramos), permitiendo por diferenciación automática el cálculo de las derivadas de una función arbitrariamente compleja respecto de sus entradas."
      ],
      "metadata": {
        "id": "TAIge0mCOohh"
      }
    },
    {
      "cell_type": "code",
      "source": [
        "import math\n",
        "from graphviz import Digraph"
      ],
      "metadata": {
        "id": "NWmB_aQ5c6y0"
      },
      "execution_count": 63,
      "outputs": []
    },
    {
      "cell_type": "code",
      "source": [
        "# helper function for subsetting a dict\n",
        "def subset(X: dict, keys: set) -> dict:\n",
        "    return {k:v for k,v in X.items() if k in keys}\n",
        "\n",
        "# an example\n",
        "sample_dict = {'a': 1, 'b':2, 'c':3, 'd':4, 'e':5}\n",
        "sample_keys = {'b','d'}\n",
        "subset(sample_dict, sample_keys)"
      ],
      "metadata": {
        "colab": {
          "base_uri": "https://localhost:8080/"
        },
        "id": "zGE_EknpYm56",
        "outputId": "affa41c1-e147-4ad9-da0f-5d11143d547b"
      },
      "execution_count": 64,
      "outputs": [
        {
          "output_type": "execute_result",
          "data": {
            "text/plain": [
              "{'b': 2, 'd': 4}"
            ]
          },
          "metadata": {},
          "execution_count": 64
        }
      ]
    },
    {
      "cell_type": "code",
      "execution_count": 65,
      "metadata": {
        "id": "pWTYugr-NxLV"
      },
      "outputs": [],
      "source": [
        "class ComputeGraph:\n",
        "    def __init__(self, *inputs, debug=False):\n",
        "        self.g = {input:None for input in inputs}\n",
        "        self.inputs = set(inputs)\n",
        "        self.debug = debug\n",
        "\n",
        "    def __setitem__(self, var, operation):\n",
        "        # do not allow placing a new op on a used name\n",
        "        assert var not in self.g, f\"var name {var} already exists\"\n",
        "\n",
        "        # check that all parents of new operation already exist in the graph\n",
        "        # for sets, A < B holds if B contains A\n",
        "        assert set(operation.inputs) <= set(self.g), f\"Vars {set(operation.inputs) - set(self.g)} do not exist in graph\"\n",
        "        # add op to graph\n",
        "        self.g[var] = operation\n",
        "\n",
        "    def __call__(self, **kwords):\n",
        "        return self.forward(**kwords)\n",
        "\n",
        "    def forward(self, **kwords):\n",
        "        # check given inputs are exactly the ones expected by the graph\n",
        "        assert set(kwords.keys()) == self.inputs, f\"Given inputs {kwords} do not match expected inputs {self.inputs}\"\n",
        "\n",
        "        # initialize values dict\n",
        "        self.values = {var:{\"f\":0, \"df\":0} for var in self.g}\n",
        "\n",
        "\n",
        "        # travel the graph\n",
        "        ## Note: this exploits std dict remembering insertion order since 3.7\n",
        "        for var, op in self.g.items():\n",
        "\n",
        "            if var in self.inputs:\n",
        "                # value of an input is the passed one\n",
        "                value = kwords[var]\n",
        "            else:\n",
        "                # value of an op requires evaluating it\n",
        "                value = op.f(self.values)\n",
        "\n",
        "            # debug, possibly\n",
        "            if self.debug:\n",
        "                print(\"Forward:\\t\", var,\"=\",value)\n",
        "\n",
        "            # save it\n",
        "            self.values[var][\"f\"] = value\n",
        "\n",
        "            # only last one will not be overwritten\n",
        "            self.output = var\n",
        "\n",
        "        # return the last one\n",
        "        return value\n",
        "\n",
        "    def backwards(self):\n",
        "        # travel the graph in reverse order\n",
        "        for var, op in reversed(self.g.items()):\n",
        "\n",
        "            # the output is the last op, hence df is 1\n",
        "            if var == self.output:\n",
        "                self.values[var][\"df\"] = 1\n",
        "\n",
        "            accumulated_df = self.values[var][\"df\"]\n",
        "\n",
        "            # if it's an input, skip accumulating dfs (inputs have no parents)\n",
        "            if var in self.inputs:\n",
        "                continue\n",
        "\n",
        "            # accumulate derivatives and add to parents\n",
        "            for parent, derivative in op.df().items():\n",
        "                # dF/dx = dF/dy * dy/dx\n",
        "                # dF/dy is accumulated_df\n",
        "                # dy/dx is the derivative from op\n",
        "                self.values[parent][\"df\"] += accumulated_df * derivative\n",
        "\n",
        "                # debug, possibly\n",
        "                if self.debug:\n",
        "                    print(\"Backwards:\\t\", var,\"->\",parent,\"=\",accumulated_df,\"*\",derivative)\n",
        "\n",
        "        # return derivatives for inputs\n",
        "        return {var:values[\"df\"] for var,values in self.values.items() if var in self.inputs}\n",
        "\n",
        "    def plot(self, vertical=True, use_op_names=True):\n",
        "        d = Digraph(format='svg', graph_attr={'rankdir': 'TB' if vertical else 'LR'})\n",
        "\n",
        "        for var, op in self.g.items():\n",
        "            if var in self.inputs:\n",
        "                d.node(var, var + \"| Input\", shape='record')\n",
        "                continue\n",
        "            if use_op_names:\n",
        "                label = \"|\" + op.get_op_name()\n",
        "            else:\n",
        "                label = \" = \" + str(op)\n",
        "            d.node(var, var + label, shape='record')\n",
        "            d.edges([(parent, var) for parent in op.inputs])\n",
        "\n",
        "        return d"
      ]
    },
    {
      "cell_type": "code",
      "source": [
        "class Operation:\n",
        "    def __init__(self, *inputs):\n",
        "        self.inputs = inputs\n",
        "\n",
        "    def f(self, value_graph):\n",
        "        self.last_inputs = [value_graph[x][\"f\"] for x in self.inputs]\n",
        "        return self.forward(*self.last_inputs)\n",
        "\n",
        "    def df(self):\n",
        "        gradient = self.backwards(*self.last_inputs)\n",
        "\n",
        "        # if it's a scalar, convert to a 1-dim gradient\n",
        "        if not isinstance(gradient,tuple):\n",
        "            gradient = (gradient,)\n",
        "        return {var:derivative for var,derivative in zip(self.inputs, gradient)}\n",
        "\n",
        "    def get_op_name(self):\n",
        "        # for plotting purposes\n",
        "        return self.__class__.__name__\n",
        "\n",
        "    def __str__(self):\n",
        "        # for plotting purposes\n",
        "        return self.FMT % self.inputs"
      ],
      "metadata": {
        "id": "f50enybrUeTw"
      },
      "execution_count": 66,
      "outputs": []
    },
    {
      "cell_type": "code",
      "source": [
        "class Power(Operation):\n",
        "    FMT = \"%s ^ %s\"\n",
        "\n",
        "    def forward(self, base, exp):\n",
        "        \"\"\"base ^ exp \"\"\"\n",
        "        return base**exp\n",
        "\n",
        "    def backwards(self, base, exp):\n",
        "        \"\"\"\n",
        "        derivative of x^k is k*x^{k-1}\n",
        "        derivative of k^x is k^x * log(k)\n",
        "        \"\"\"\n",
        "        return (\n",
        "            exp* base**(exp-1),\n",
        "            base**exp * math.log(base)\n",
        "        )"
      ],
      "metadata": {
        "id": "xFWW0iF6cHXW"
      },
      "execution_count": 67,
      "outputs": []
    },
    {
      "cell_type": "code",
      "source": [
        "class Square(Operation):\n",
        "    FMT = \"%s ^ 2\"\n",
        "\n",
        "    def forward(self, base):\n",
        "        return base**2\n",
        "\n",
        "    def backwards(self, base):\n",
        "        return 2*base"
      ],
      "metadata": {
        "id": "f0yIh69lmnMh"
      },
      "execution_count": 68,
      "outputs": []
    },
    {
      "cell_type": "code",
      "source": [
        "class Product(Operation):\n",
        "    FMT = \"%s * %s\"\n",
        "\n",
        "    def forward(self, a, b):\n",
        "        \"\"\"a * b\"\"\"\n",
        "        return a * b\n",
        "\n",
        "    def backwards(self, a, b):\n",
        "        \"\"\"\n",
        "        derivative of x*b is b\n",
        "        derivative of a*x is a\n",
        "        \"\"\"\n",
        "        return (b,a)"
      ],
      "metadata": {
        "id": "NKXiXdDTc4jX"
      },
      "execution_count": 69,
      "outputs": []
    },
    {
      "cell_type": "code",
      "source": [
        "class Cosine(Operation):\n",
        "    FMT = \"cos(%s)\"\n",
        "\n",
        "    def forward(self, x):\n",
        "        \"\"\"cos(x)\"\"\"\n",
        "        return math.cos(x)\n",
        "\n",
        "    def backwards(self, x):\n",
        "        \"\"\"\n",
        "        derivative of cos(x) is -sin(x)\n",
        "        \"\"\"\n",
        "        return -math.sin(x)"
      ],
      "metadata": {
        "id": "S3hMl-oOdLEV"
      },
      "execution_count": 70,
      "outputs": []
    },
    {
      "cell_type": "markdown",
      "source": [
        "## Código de prueba"
      ],
      "metadata": {
        "id": "5bsMw7Lrfh-v"
      }
    },
    {
      "cell_type": "markdown",
      "source": [
        "Empecemos con una fácil: $x^{cos(x)}$\n",
        "\n",
        "Veámosla para $x=3$, que debería dar, según [Wolfram Alpha](https://www.wolframalpha.com/input?i=derivative+of+x%5E%7Bcos%28x%29%7D+at+x%3D3&lang=es), $-0.163465$\n",
        "\n",
        "Lo vamos a plantear de la siguiente manera:\n",
        "```\n",
        "x\n",
        "y = cos(x)\n",
        "z = x^y\n",
        "```\n",
        "\n",
        "Donde z es la salida"
      ],
      "metadata": {
        "id": "AItU7-U3flae"
      }
    },
    {
      "cell_type": "code",
      "source": [
        "cg = ComputeGraph(\"x\", debug=True)\n",
        "cg[\"y\"] = Cosine(\"x\")\n",
        "cg[\"z\"] = Power(\"x\", \"y\")"
      ],
      "metadata": {
        "id": "A_Jxd_tVfPHT"
      },
      "execution_count": 71,
      "outputs": []
    },
    {
      "cell_type": "code",
      "source": [
        "cg(x=3)"
      ],
      "metadata": {
        "colab": {
          "base_uri": "https://localhost:8080/"
        },
        "id": "5c464jVyghEg",
        "outputId": "2e8fea9f-687f-4214-a748-2b94efbacf70"
      },
      "execution_count": 72,
      "outputs": [
        {
          "output_type": "stream",
          "name": "stdout",
          "text": [
            "Forward:\t x = 3\n",
            "Forward:\t y = -0.9899924966004454\n",
            "Forward:\t z = 0.3370183421202187\n"
          ]
        },
        {
          "output_type": "execute_result",
          "data": {
            "text/plain": [
              "0.3370183421202187"
            ]
          },
          "metadata": {},
          "execution_count": 72
        }
      ]
    },
    {
      "cell_type": "code",
      "source": [
        "cg.backwards()"
      ],
      "metadata": {
        "colab": {
          "base_uri": "https://localhost:8080/"
        },
        "id": "ofPjNs8Pg1WI",
        "outputId": "388a9e70-74be-4f72-fa3e-814cc6dab9ca"
      },
      "execution_count": 73,
      "outputs": [
        {
          "output_type": "stream",
          "name": "stdout",
          "text": [
            "Backwards:\t z -> x = 1 * -0.11121520997191278\n",
            "Backwards:\t z -> y = 1 * 0.3702524921598255\n",
            "Backwards:\t y -> x = 0.3702524921598255 * -0.1411200080598672\n"
          ]
        },
        {
          "output_type": "execute_result",
          "data": {
            "text/plain": [
              "{'x': -0.16346524464969328}"
            ]
          },
          "metadata": {},
          "execution_count": 73
        }
      ]
    },
    {
      "cell_type": "markdown",
      "source": [
        "Ahora vamos con algo un poquito más dificil, $x^{cos(y) \\cdot z^2}$. Probémoslo para $x=2, y=3, z=1.5$, que según [Wolfram Alpha](https://www.wolframalpha.com/input?i=derivatives+of+x%5E%7Bcos%28y%29*z%5E2%7D&lang=es), debería dar [-0.237818](https://www.wolframalpha.com/input?i=x%5E%28-1+%2B+z%5E2+cos%28y%29%29+z%5E2+cos%28y%29+at+x%3D2%2C+y%3D3%2C+z%3D1.5&lang=es), [-0.0469956](https://www.wolframalpha.com/input?i=-x%5E%28z%5E2+cos%28y%29%29+z%5E2+log%28x%29+sen%28y%29+at+x%3D2%2C+y%3D3%2C+z%3D1.5&lang=es), [-0.439581](https://www.wolframalpha.com/input?i=2+x%5E%28z%5E2+cos%28y%29%29+z+cos%28y%29+log%28x%29+at+x%3D2%2C+y%3D3%2C+z%3D1.5&lang=es)\n",
        "\n",
        "\n",
        "Lo vamos a hacer así:\n",
        "```\n",
        "x, y, z\n",
        "a = cos(y)\n",
        "b = z^2\n",
        "c = a*b\n",
        "d = x^c\n",
        "```\n",
        "\n",
        "Donde d es la salida"
      ],
      "metadata": {
        "id": "Cp3feXB-k0OY"
      }
    },
    {
      "cell_type": "code",
      "source": [
        "cg = ComputeGraph(\"x\",\"y\",\"z\")\n",
        "cg[\"a\"] = Cosine(\"y\")\n",
        "cg[\"b\"] = Square(\"z\")\n",
        "cg[\"c\"] = Product(\"a\",\"b\")\n",
        "cg[\"d\"] = Power(\"x\",\"c\")\n",
        "\n",
        "cg(x=2,y=3,z=1.5)"
      ],
      "metadata": {
        "colab": {
          "base_uri": "https://localhost:8080/"
        },
        "id": "X4Y56PCAjWcq",
        "outputId": "158589e3-dc11-4866-cb38-9859ded780ad"
      },
      "execution_count": 74,
      "outputs": [
        {
          "output_type": "execute_result",
          "data": {
            "text/plain": [
              "0.21353091784478878"
            ]
          },
          "metadata": {},
          "execution_count": 74
        }
      ]
    },
    {
      "cell_type": "code",
      "source": [
        "cg.backwards()"
      ],
      "metadata": {
        "colab": {
          "base_uri": "https://localhost:8080/"
        },
        "id": "5FrSfAkAm8R-",
        "outputId": "3df69733-ac1c-4f6b-d61c-18c67bd7b903"
      },
      "execution_count": 75,
      "outputs": [
        {
          "output_type": "execute_result",
          "data": {
            "text/plain": [
              "{'x': -0.23781825726586542,\n",
              " 'y': -0.04699561514027202,\n",
              " 'z': -0.43958147869203823}"
            ]
          },
          "metadata": {},
          "execution_count": 75
        }
      ]
    },
    {
      "cell_type": "markdown",
      "source": [
        "Ploteemos este último grafo de computo:"
      ],
      "metadata": {
        "id": "mUgLUnURGIRX"
      }
    },
    {
      "cell_type": "markdown",
      "source": [
        "Primero usamos los tipos de las operaciones (con `use_op_names=True`, el valor default)"
      ],
      "metadata": {
        "id": "MZQ4DX3tGNU-"
      }
    },
    {
      "cell_type": "code",
      "source": [
        "cg.plot(use_op_names=True)"
      ],
      "metadata": {
        "colab": {
          "base_uri": "https://localhost:8080/",
          "height": 373
        },
        "id": "q1j-HkzO_gXm",
        "outputId": "ec7c3917-d875-433a-ae6a-ffea08ea5d14"
      },
      "execution_count": 76,
      "outputs": [
        {
          "output_type": "execute_result",
          "data": {
            "image/svg+xml": "<?xml version=\"1.0\" encoding=\"UTF-8\" standalone=\"no\"?>\n<!DOCTYPE svg PUBLIC \"-//W3C//DTD SVG 1.1//EN\"\n \"http://www.w3.org/Graphics/SVG/1.1/DTD/svg11.dtd\">\n<!-- Generated by graphviz version 2.43.0 (0)\n -->\n<!-- Title: %3 Pages: 1 -->\n<svg width=\"221pt\" height=\"264pt\"\n viewBox=\"0.00 0.00 220.50 264.00\" xmlns=\"http://www.w3.org/2000/svg\" xmlns:xlink=\"http://www.w3.org/1999/xlink\">\n<g id=\"graph0\" class=\"graph\" transform=\"scale(1 1) rotate(0) translate(4 260)\">\n<title>%3</title>\n<polygon fill=\"white\" stroke=\"transparent\" points=\"-4,4 -4,-260 216.5,-260 216.5,4 -4,4\"/>\n<!-- x -->\n<g id=\"node1\" class=\"node\">\n<title>x</title>\n<polygon fill=\"none\" stroke=\"black\" points=\"0,-73.5 0,-109.5 68,-109.5 68,-73.5 0,-73.5\"/>\n<text text-anchor=\"middle\" x=\"11.5\" y=\"-87.8\" font-family=\"Times,serif\" font-size=\"14.00\">x</text>\n<polyline fill=\"none\" stroke=\"black\" points=\"23,-73.5 23,-109.5 \"/>\n<text text-anchor=\"middle\" x=\"45.5\" y=\"-87.8\" font-family=\"Times,serif\" font-size=\"14.00\">Input</text>\n</g>\n<!-- d -->\n<g id=\"node7\" class=\"node\">\n<title>d</title>\n<polygon fill=\"none\" stroke=\"black\" points=\"43,-0.5 43,-36.5 117,-36.5 117,-0.5 43,-0.5\"/>\n<text text-anchor=\"middle\" x=\"54.5\" y=\"-14.8\" font-family=\"Times,serif\" font-size=\"14.00\">d</text>\n<polyline fill=\"none\" stroke=\"black\" points=\"66,-0.5 66,-36.5 \"/>\n<text text-anchor=\"middle\" x=\"91.5\" y=\"-14.8\" font-family=\"Times,serif\" font-size=\"14.00\">Power</text>\n</g>\n<!-- x&#45;&gt;d -->\n<g id=\"edge5\" class=\"edge\">\n<title>x&#45;&gt;d</title>\n<path fill=\"none\" stroke=\"black\" d=\"M45.14,-73.31C50.62,-64.85 57.33,-54.48 63.41,-45.11\"/>\n<polygon fill=\"black\" stroke=\"black\" points=\"66.47,-46.82 68.97,-36.53 60.59,-43.02 66.47,-46.82\"/>\n</g>\n<!-- y -->\n<g id=\"node2\" class=\"node\">\n<title>y</title>\n<polygon fill=\"none\" stroke=\"black\" points=\"45,-219.5 45,-255.5 113,-255.5 113,-219.5 45,-219.5\"/>\n<text text-anchor=\"middle\" x=\"56.5\" y=\"-233.8\" font-family=\"Times,serif\" font-size=\"14.00\">y</text>\n<polyline fill=\"none\" stroke=\"black\" points=\"68,-219.5 68,-255.5 \"/>\n<text text-anchor=\"middle\" x=\"90.5\" y=\"-233.8\" font-family=\"Times,serif\" font-size=\"14.00\">Input</text>\n</g>\n<!-- a -->\n<g id=\"node4\" class=\"node\">\n<title>a</title>\n<polygon fill=\"none\" stroke=\"black\" points=\"40.5,-146.5 40.5,-182.5 117.5,-182.5 117.5,-146.5 40.5,-146.5\"/>\n<text text-anchor=\"middle\" x=\"52\" y=\"-160.8\" font-family=\"Times,serif\" font-size=\"14.00\">a</text>\n<polyline fill=\"none\" stroke=\"black\" points=\"63.5,-146.5 63.5,-182.5 \"/>\n<text text-anchor=\"middle\" x=\"90.5\" y=\"-160.8\" font-family=\"Times,serif\" font-size=\"14.00\">Cosine</text>\n</g>\n<!-- y&#45;&gt;a -->\n<g id=\"edge1\" class=\"edge\">\n<title>y&#45;&gt;a</title>\n<path fill=\"none\" stroke=\"black\" d=\"M79,-219.31C79,-211.29 79,-201.55 79,-192.57\"/>\n<polygon fill=\"black\" stroke=\"black\" points=\"82.5,-192.53 79,-182.53 75.5,-192.53 82.5,-192.53\"/>\n</g>\n<!-- z -->\n<g id=\"node3\" class=\"node\">\n<title>z</title>\n<polygon fill=\"none\" stroke=\"black\" points=\"140,-219.5 140,-255.5 208,-255.5 208,-219.5 140,-219.5\"/>\n<text text-anchor=\"middle\" x=\"151.5\" y=\"-233.8\" font-family=\"Times,serif\" font-size=\"14.00\">z</text>\n<polyline fill=\"none\" stroke=\"black\" points=\"163,-219.5 163,-255.5 \"/>\n<text text-anchor=\"middle\" x=\"185.5\" y=\"-233.8\" font-family=\"Times,serif\" font-size=\"14.00\">Input</text>\n</g>\n<!-- b -->\n<g id=\"node5\" class=\"node\">\n<title>b</title>\n<polygon fill=\"none\" stroke=\"black\" points=\"135.5,-146.5 135.5,-182.5 212.5,-182.5 212.5,-146.5 135.5,-146.5\"/>\n<text text-anchor=\"middle\" x=\"147\" y=\"-160.8\" font-family=\"Times,serif\" font-size=\"14.00\">b</text>\n<polyline fill=\"none\" stroke=\"black\" points=\"158.5,-146.5 158.5,-182.5 \"/>\n<text text-anchor=\"middle\" x=\"185.5\" y=\"-160.8\" font-family=\"Times,serif\" font-size=\"14.00\">Square</text>\n</g>\n<!-- z&#45;&gt;b -->\n<g id=\"edge2\" class=\"edge\">\n<title>z&#45;&gt;b</title>\n<path fill=\"none\" stroke=\"black\" d=\"M174,-219.31C174,-211.29 174,-201.55 174,-192.57\"/>\n<polygon fill=\"black\" stroke=\"black\" points=\"177.5,-192.53 174,-182.53 170.5,-192.53 177.5,-192.53\"/>\n</g>\n<!-- c -->\n<g id=\"node6\" class=\"node\">\n<title>c</title>\n<polygon fill=\"none\" stroke=\"black\" points=\"86,-73.5 86,-109.5 168,-109.5 168,-73.5 86,-73.5\"/>\n<text text-anchor=\"middle\" x=\"97.5\" y=\"-87.8\" font-family=\"Times,serif\" font-size=\"14.00\">c</text>\n<polyline fill=\"none\" stroke=\"black\" points=\"109,-73.5 109,-109.5 \"/>\n<text text-anchor=\"middle\" x=\"138.5\" y=\"-87.8\" font-family=\"Times,serif\" font-size=\"14.00\">Product</text>\n</g>\n<!-- a&#45;&gt;c -->\n<g id=\"edge3\" class=\"edge\">\n<title>a&#45;&gt;c</title>\n<path fill=\"none\" stroke=\"black\" d=\"M90.62,-146.31C96.4,-137.77 103.49,-127.27 109.88,-117.82\"/>\n<polygon fill=\"black\" stroke=\"black\" points=\"112.79,-119.77 115.49,-109.53 106.99,-115.85 112.79,-119.77\"/>\n</g>\n<!-- b&#45;&gt;c -->\n<g id=\"edge4\" class=\"edge\">\n<title>b&#45;&gt;c</title>\n<path fill=\"none\" stroke=\"black\" d=\"M162.62,-146.31C157.02,-137.85 150.16,-127.48 143.95,-118.11\"/>\n<polygon fill=\"black\" stroke=\"black\" points=\"146.71,-115.94 138.27,-109.53 140.87,-119.8 146.71,-115.94\"/>\n</g>\n<!-- c&#45;&gt;d -->\n<g id=\"edge6\" class=\"edge\">\n<title>c&#45;&gt;d</title>\n<path fill=\"none\" stroke=\"black\" d=\"M115.62,-73.31C110.02,-64.85 103.16,-54.48 96.95,-45.11\"/>\n<polygon fill=\"black\" stroke=\"black\" points=\"99.71,-42.94 91.27,-36.53 93.87,-46.8 99.71,-42.94\"/>\n</g>\n</g>\n</svg>\n",
            "text/plain": [
              "<graphviz.graphs.Digraph at 0x7fc19e164700>"
            ]
          },
          "metadata": {},
          "execution_count": 76
        }
      ]
    },
    {
      "cell_type": "markdown",
      "source": [
        "Ahora en formato más \"humano\" con `use_op_names=False`"
      ],
      "metadata": {
        "id": "tCWVtsupGS-5"
      }
    },
    {
      "cell_type": "code",
      "source": [
        "cg.plot(use_op_names=False)"
      ],
      "metadata": {
        "colab": {
          "base_uri": "https://localhost:8080/",
          "height": 373
        },
        "id": "fsJLuVmGDV4Z",
        "outputId": "4991364a-a7e0-4b01-fdfc-aea1caecd231"
      },
      "execution_count": 77,
      "outputs": [
        {
          "output_type": "execute_result",
          "data": {
            "image/svg+xml": "<?xml version=\"1.0\" encoding=\"UTF-8\" standalone=\"no\"?>\n<!DOCTYPE svg PUBLIC \"-//W3C//DTD SVG 1.1//EN\"\n \"http://www.w3.org/Graphics/SVG/1.1/DTD/svg11.dtd\">\n<!-- Generated by graphviz version 2.43.0 (0)\n -->\n<!-- Title: %3 Pages: 1 -->\n<svg width=\"205pt\" height=\"264pt\"\n viewBox=\"0.00 0.00 205.00 264.00\" xmlns=\"http://www.w3.org/2000/svg\" xmlns:xlink=\"http://www.w3.org/1999/xlink\">\n<g id=\"graph0\" class=\"graph\" transform=\"scale(1 1) rotate(0) translate(4 260)\">\n<title>%3</title>\n<polygon fill=\"white\" stroke=\"transparent\" points=\"-4,4 -4,-260 201,-260 201,4 -4,4\"/>\n<!-- x -->\n<g id=\"node1\" class=\"node\">\n<title>x</title>\n<polygon fill=\"none\" stroke=\"black\" points=\"0,-73.5 0,-109.5 68,-109.5 68,-73.5 0,-73.5\"/>\n<text text-anchor=\"middle\" x=\"11.5\" y=\"-87.8\" font-family=\"Times,serif\" font-size=\"14.00\">x</text>\n<polyline fill=\"none\" stroke=\"black\" points=\"23,-73.5 23,-109.5 \"/>\n<text text-anchor=\"middle\" x=\"45.5\" y=\"-87.8\" font-family=\"Times,serif\" font-size=\"14.00\">Input</text>\n</g>\n<!-- d -->\n<g id=\"node7\" class=\"node\">\n<title>d</title>\n<polygon fill=\"none\" stroke=\"black\" points=\"43,-0.5 43,-36.5 109,-36.5 109,-0.5 43,-0.5\"/>\n<text text-anchor=\"middle\" x=\"76\" y=\"-14.8\" font-family=\"Times,serif\" font-size=\"14.00\">d = x ^ c</text>\n</g>\n<!-- x&#45;&gt;d -->\n<g id=\"edge5\" class=\"edge\">\n<title>x&#45;&gt;d</title>\n<path fill=\"none\" stroke=\"black\" d=\"M44.17,-73.31C49.12,-64.94 55.18,-54.7 60.68,-45.4\"/>\n<polygon fill=\"black\" stroke=\"black\" points=\"63.85,-46.92 65.93,-36.53 57.82,-43.35 63.85,-46.92\"/>\n</g>\n<!-- y -->\n<g id=\"node2\" class=\"node\">\n<title>y</title>\n<polygon fill=\"none\" stroke=\"black\" points=\"42,-219.5 42,-255.5 110,-255.5 110,-219.5 42,-219.5\"/>\n<text text-anchor=\"middle\" x=\"53.5\" y=\"-233.8\" font-family=\"Times,serif\" font-size=\"14.00\">y</text>\n<polyline fill=\"none\" stroke=\"black\" points=\"65,-219.5 65,-255.5 \"/>\n<text text-anchor=\"middle\" x=\"87.5\" y=\"-233.8\" font-family=\"Times,serif\" font-size=\"14.00\">Input</text>\n</g>\n<!-- a -->\n<g id=\"node4\" class=\"node\">\n<title>a</title>\n<polygon fill=\"none\" stroke=\"black\" points=\"40,-146.5 40,-182.5 112,-182.5 112,-146.5 40,-146.5\"/>\n<text text-anchor=\"middle\" x=\"76\" y=\"-160.8\" font-family=\"Times,serif\" font-size=\"14.00\">a = cos(y)</text>\n</g>\n<!-- y&#45;&gt;a -->\n<g id=\"edge1\" class=\"edge\">\n<title>y&#45;&gt;a</title>\n<path fill=\"none\" stroke=\"black\" d=\"M76,-219.31C76,-211.29 76,-201.55 76,-192.57\"/>\n<polygon fill=\"black\" stroke=\"black\" points=\"79.5,-192.53 76,-182.53 72.5,-192.53 79.5,-192.53\"/>\n</g>\n<!-- z -->\n<g id=\"node3\" class=\"node\">\n<title>z</title>\n<polygon fill=\"none\" stroke=\"black\" points=\"129,-219.5 129,-255.5 197,-255.5 197,-219.5 129,-219.5\"/>\n<text text-anchor=\"middle\" x=\"140.5\" y=\"-233.8\" font-family=\"Times,serif\" font-size=\"14.00\">z</text>\n<polyline fill=\"none\" stroke=\"black\" points=\"152,-219.5 152,-255.5 \"/>\n<text text-anchor=\"middle\" x=\"174.5\" y=\"-233.8\" font-family=\"Times,serif\" font-size=\"14.00\">Input</text>\n</g>\n<!-- b -->\n<g id=\"node5\" class=\"node\">\n<title>b</title>\n<polygon fill=\"none\" stroke=\"black\" points=\"130,-146.5 130,-182.5 196,-182.5 196,-146.5 130,-146.5\"/>\n<text text-anchor=\"middle\" x=\"163\" y=\"-160.8\" font-family=\"Times,serif\" font-size=\"14.00\">b = z ^ 2</text>\n</g>\n<!-- z&#45;&gt;b -->\n<g id=\"edge2\" class=\"edge\">\n<title>z&#45;&gt;b</title>\n<path fill=\"none\" stroke=\"black\" d=\"M163,-219.31C163,-211.29 163,-201.55 163,-192.57\"/>\n<polygon fill=\"black\" stroke=\"black\" points=\"166.5,-192.53 163,-182.53 159.5,-192.53 166.5,-192.53\"/>\n</g>\n<!-- c -->\n<g id=\"node6\" class=\"node\">\n<title>c</title>\n<polygon fill=\"none\" stroke=\"black\" points=\"86.5,-73.5 86.5,-109.5 151.5,-109.5 151.5,-73.5 86.5,-73.5\"/>\n<text text-anchor=\"middle\" x=\"119\" y=\"-87.8\" font-family=\"Times,serif\" font-size=\"14.00\">c = a * b</text>\n</g>\n<!-- a&#45;&gt;c -->\n<g id=\"edge3\" class=\"edge\">\n<title>a&#45;&gt;c</title>\n<path fill=\"none\" stroke=\"black\" d=\"M86.41,-146.31C91.53,-137.85 97.81,-127.48 103.49,-118.11\"/>\n<polygon fill=\"black\" stroke=\"black\" points=\"106.5,-119.9 108.69,-109.53 100.51,-116.27 106.5,-119.9\"/>\n</g>\n<!-- b&#45;&gt;c -->\n<g id=\"edge4\" class=\"edge\">\n<title>b&#45;&gt;c</title>\n<path fill=\"none\" stroke=\"black\" d=\"M152.35,-146.31C147.11,-137.85 140.68,-127.48 134.87,-118.11\"/>\n<polygon fill=\"black\" stroke=\"black\" points=\"137.8,-116.19 129.55,-109.53 131.85,-119.87 137.8,-116.19\"/>\n</g>\n<!-- c&#45;&gt;d -->\n<g id=\"edge6\" class=\"edge\">\n<title>c&#45;&gt;d</title>\n<path fill=\"none\" stroke=\"black\" d=\"M108.59,-73.31C103.47,-64.85 97.19,-54.48 91.51,-45.11\"/>\n<polygon fill=\"black\" stroke=\"black\" points=\"94.49,-43.27 86.31,-36.53 88.5,-46.9 94.49,-43.27\"/>\n</g>\n</g>\n</svg>\n",
            "text/plain": [
              "<graphviz.graphs.Digraph at 0x7fc19e166230>"
            ]
          },
          "metadata": {},
          "execution_count": 77
        }
      ]
    },
    {
      "cell_type": "markdown",
      "source": [
        "Si cambiamos el parámetro `vertical=False` pasa a ser horizontal"
      ],
      "metadata": {
        "id": "ys2zihXwGdLI"
      }
    },
    {
      "cell_type": "code",
      "source": [
        "cg.plot(use_op_names=False,vertical=False)"
      ],
      "metadata": {
        "colab": {
          "base_uri": "https://localhost:8080/",
          "height": 217
        },
        "id": "sr0EBtoIGcyZ",
        "outputId": "41771d7e-13af-4ee6-cc20-7bda18ede31c"
      },
      "execution_count": 78,
      "outputs": [
        {
          "output_type": "execute_result",
          "data": {
            "image/svg+xml": "<?xml version=\"1.0\" encoding=\"UTF-8\" standalone=\"no\"?>\n<!DOCTYPE svg PUBLIC \"-//W3C//DTD SVG 1.1//EN\"\n \"http://www.w3.org/Graphics/SVG/1.1/DTD/svg11.dtd\">\n<!-- Generated by graphviz version 2.43.0 (0)\n -->\n<!-- Title: %3 Pages: 1 -->\n<svg width=\"373pt\" height=\"147pt\"\n viewBox=\"0.00 0.00 373.00 147.00\" xmlns=\"http://www.w3.org/2000/svg\" xmlns:xlink=\"http://www.w3.org/1999/xlink\">\n<g id=\"graph0\" class=\"graph\" transform=\"scale(1 1) rotate(0) translate(4 143)\">\n<title>%3</title>\n<polygon fill=\"white\" stroke=\"transparent\" points=\"-4,4 -4,-143 369,-143 369,4 -4,4\"/>\n<!-- x -->\n<g id=\"node1\" class=\"node\">\n<title>x</title>\n<polygon fill=\"none\" stroke=\"black\" points=\"203.5,-92.5 203.5,-138.5 257.5,-138.5 257.5,-92.5 203.5,-92.5\"/>\n<text text-anchor=\"middle\" x=\"230.5\" y=\"-123.3\" font-family=\"Times,serif\" font-size=\"14.00\">x</text>\n<polyline fill=\"none\" stroke=\"black\" points=\"203.5,-115.5 257.5,-115.5 \"/>\n<text text-anchor=\"middle\" x=\"230.5\" y=\"-100.3\" font-family=\"Times,serif\" font-size=\"14.00\">Input</text>\n</g>\n<!-- d -->\n<g id=\"node7\" class=\"node\">\n<title>d</title>\n<polygon fill=\"none\" stroke=\"black\" points=\"299,-67.5 299,-103.5 365,-103.5 365,-67.5 299,-67.5\"/>\n<text text-anchor=\"middle\" x=\"332\" y=\"-81.8\" font-family=\"Times,serif\" font-size=\"14.00\">d = x ^ c</text>\n</g>\n<!-- x&#45;&gt;d -->\n<g id=\"edge5\" class=\"edge\">\n<title>x&#45;&gt;d</title>\n<path fill=\"none\" stroke=\"black\" d=\"M257.64,-107.62C267.34,-104.69 278.6,-101.3 289.34,-98.06\"/>\n<polygon fill=\"black\" stroke=\"black\" points=\"290.43,-101.39 299,-95.15 288.41,-94.69 290.43,-101.39\"/>\n</g>\n<!-- y -->\n<g id=\"node2\" class=\"node\">\n<title>y</title>\n<polygon fill=\"none\" stroke=\"black\" points=\"0,-65.5 0,-111.5 54,-111.5 54,-65.5 0,-65.5\"/>\n<text text-anchor=\"middle\" x=\"27\" y=\"-96.3\" font-family=\"Times,serif\" font-size=\"14.00\">y</text>\n<polyline fill=\"none\" stroke=\"black\" points=\"0,-88.5 54,-88.5 \"/>\n<text text-anchor=\"middle\" x=\"27\" y=\"-73.3\" font-family=\"Times,serif\" font-size=\"14.00\">Input</text>\n</g>\n<!-- a -->\n<g id=\"node4\" class=\"node\">\n<title>a</title>\n<polygon fill=\"none\" stroke=\"black\" points=\"90,-67.5 90,-103.5 162,-103.5 162,-67.5 90,-67.5\"/>\n<text text-anchor=\"middle\" x=\"126\" y=\"-81.8\" font-family=\"Times,serif\" font-size=\"14.00\">a = cos(y)</text>\n</g>\n<!-- y&#45;&gt;a -->\n<g id=\"edge1\" class=\"edge\">\n<title>y&#45;&gt;a</title>\n<path fill=\"none\" stroke=\"black\" d=\"M54.25,-87.69C62.15,-87.44 71.06,-87.17 79.83,-86.9\"/>\n<polygon fill=\"black\" stroke=\"black\" points=\"80.1,-90.39 89.98,-86.58 79.88,-83.39 80.1,-90.39\"/>\n</g>\n<!-- z -->\n<g id=\"node3\" class=\"node\">\n<title>z</title>\n<polygon fill=\"none\" stroke=\"black\" points=\"0,-0.5 0,-46.5 54,-46.5 54,-0.5 0,-0.5\"/>\n<text text-anchor=\"middle\" x=\"27\" y=\"-31.3\" font-family=\"Times,serif\" font-size=\"14.00\">z</text>\n<polyline fill=\"none\" stroke=\"black\" points=\"0,-23.5 54,-23.5 \"/>\n<text text-anchor=\"middle\" x=\"27\" y=\"-8.3\" font-family=\"Times,serif\" font-size=\"14.00\">Input</text>\n</g>\n<!-- b -->\n<g id=\"node5\" class=\"node\">\n<title>b</title>\n<polygon fill=\"none\" stroke=\"black\" points=\"93,-10.5 93,-46.5 159,-46.5 159,-10.5 93,-10.5\"/>\n<text text-anchor=\"middle\" x=\"126\" y=\"-24.8\" font-family=\"Times,serif\" font-size=\"14.00\">b = z ^ 2</text>\n</g>\n<!-- z&#45;&gt;b -->\n<g id=\"edge2\" class=\"edge\">\n<title>z&#45;&gt;b</title>\n<path fill=\"none\" stroke=\"black\" d=\"M54.25,-24.85C62.98,-25.3 72.95,-25.82 82.59,-26.31\"/>\n<polygon fill=\"black\" stroke=\"black\" points=\"82.68,-29.82 92.85,-26.84 83.04,-22.83 82.68,-29.82\"/>\n</g>\n<!-- c -->\n<g id=\"node6\" class=\"node\">\n<title>c</title>\n<polygon fill=\"none\" stroke=\"black\" points=\"198,-37.5 198,-73.5 263,-73.5 263,-37.5 198,-37.5\"/>\n<text text-anchor=\"middle\" x=\"230.5\" y=\"-51.8\" font-family=\"Times,serif\" font-size=\"14.00\">c = a * b</text>\n</g>\n<!-- a&#45;&gt;c -->\n<g id=\"edge3\" class=\"edge\">\n<title>a&#45;&gt;c</title>\n<path fill=\"none\" stroke=\"black\" d=\"M162.27,-75.18C170.6,-72.74 179.55,-70.12 188.12,-67.61\"/>\n<polygon fill=\"black\" stroke=\"black\" points=\"189.32,-70.91 197.94,-64.74 187.36,-64.19 189.32,-70.91\"/>\n</g>\n<!-- b&#45;&gt;c -->\n<g id=\"edge4\" class=\"edge\">\n<title>b&#45;&gt;c</title>\n<path fill=\"none\" stroke=\"black\" d=\"M159.15,-36.97C168.3,-39.38 178.4,-42.04 188.02,-44.57\"/>\n<polygon fill=\"black\" stroke=\"black\" points=\"187.25,-47.99 197.82,-47.15 189.04,-41.22 187.25,-47.99\"/>\n</g>\n<!-- c&#45;&gt;d -->\n<g id=\"edge6\" class=\"edge\">\n<title>c&#45;&gt;d</title>\n<path fill=\"none\" stroke=\"black\" d=\"M263.26,-65.07C271.52,-67.57 280.55,-70.29 289.25,-72.91\"/>\n<polygon fill=\"black\" stroke=\"black\" points=\"288.28,-76.27 298.86,-75.81 290.3,-69.57 288.28,-76.27\"/>\n</g>\n</g>\n</svg>\n",
            "text/plain": [
              "<graphviz.graphs.Digraph at 0x7fc19e165ed0>"
            ]
          },
          "metadata": {},
          "execution_count": 78
        }
      ]
    }
  ]
}