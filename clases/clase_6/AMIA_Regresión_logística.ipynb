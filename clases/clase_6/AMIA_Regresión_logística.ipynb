{
  "nbformat": 4,
  "nbformat_minor": 0,
  "metadata": {
    "colab": {
      "provenance": []
    },
    "kernelspec": {
      "name": "python3",
      "display_name": "Python 3"
    },
    "language_info": {
      "name": "python"
    }
  },
  "cells": [
    {
      "cell_type": "markdown",
      "metadata": {
        "id": "ljOQZ8CppLdC"
      },
      "source": [
        "# Regresión Logística\n",
        "\n",
        "Uno de los modelos de clasificación más simples que existe, el modelo de regresión logística consiste en una red neuronal de una celda cuya función de activación es la logística:\n",
        "\n",
        "$$\n",
        "\\sigma(z) = \\frac{1}{1+e^{-z}}\n",
        "$$\n",
        "\n",
        "Reemplazando con $z = w^T \\cdot x + b$ una transformación afín del vector de entrada $x$ vía el vector de pesos $w$ y el sesgo $b$, se obtiene que el modelo $h(x)$ es\n",
        "\n",
        "$$\n",
        "h(x) = \\sigma(w^T  \\cdot x+b) = \\frac{1}{1+e^{-(w^T  \\cdot x+b)}}\n",
        "$$\n",
        "\n",
        "cuya salida es un valor entre 0 y 1, interpretable a su vez en un esquema de clasificación binaria (las clases posibles son $0$ y $1$) como *la probabilidad de que ese $x$ pertenezca a la clase 1*.\n",
        "\n",
        "\n",
        "## Forward propagation (predicción)\n",
        "\n",
        "Dada una función de pérdida $\\mathcal{L}(y,\\hat{y})$, se puede definir la función de costo $J(W,b)=\\frac{1}{n}\\sum_{i=1}^n\\mathcal{L}(y_i,h_{W,b}(x_i))$ que es la pérdida promedio. En el caso de utilizar SGD podemos estimar esto en base al error sobre un sample.\n",
        "\n",
        "\n",
        "![](https://drive.google.com/uc?id=1_whFVq37nx53d_f-jRCI68vIUv63T5_f)\n",
        "\n",
        "\n",
        "## Backwards propagation (actualización)\n",
        "![](https://drive.google.com/uc?id=11uQs3-MC3mtq0la7i8EFuofSkrjxiKKw)\n",
        "\n",
        "donde:\n",
        "* $\\frac{dL}{d\\sigma}$ depende de la función de pérdida utilizada\n",
        "* $\\frac{d\\sigma}{dz} = \\sigma'(z) = \\sigma(z)(1-\\sigma(z))$ es la derivada de la función logística\n",
        "* $\\nabla z (w) = x$ que se puede obtener fácilmente observando que $z=b+\\sum_{i=1}^n w_i \\cdot x_i$ y luego para todo $i$ resulta $\\frac{dz}{dw_i}=x_i$ y de la misma forma  $\\frac{dz}{dx_i}=w_i$, luego $\\nabla z (w) = x$ y $\\nabla z (x) = w$, aunque este último no resulta de interés para una red neuronal no-multicapa.\n",
        "* $\\frac{dz}{db}=1$\n",
        "\n",
        "\n",
        "\n",
        "## Función de pérdida: Cross-entropy\n",
        "\n",
        "Vamos a utilizar, para el esquema de clasificación binaria (las clases son $0$ o $1$) la función de pérdida conocida como *log-loss* o [*cross-entropy loss*](https://en.wikipedia.org/wiki/Cross_entropy#Cross-entropy_loss_function_and_logistic_regression), que se define como:\n",
        "\n",
        "$$\n",
        "\\mathcal{L}(y,\\hat{y}) = -y \\cdot log(\\hat{y}) - (1-y) \\cdot log(1-\\hat{y})\n",
        "$$\n",
        "\n",
        "Al margen de las muchas propiedades que exhibe la utilización de esa función de pérdida (cuya minimización, por ejemplo, es equivalente a maximizar la verosimilitud de los datos), su derivada resulta muy práctica por cómo se acopla con la derivada respecto de $z$:\n",
        "\n",
        "$$\n",
        "\\frac{d\\mathcal{L}(y,\\hat{y})}{d\\hat{y}} = \\frac{\\hat{y}-y}{\\hat{y}(1-\\hat{y})}\n",
        "$$\n",
        "\n",
        "de donde\n",
        "$$\n",
        "\\frac{d\\mathcal{L}(y,\\sigma(z))}{dz} = \\frac{d\\mathcal{L}(y,\\sigma)}{d\\sigma} \\cdot \\frac{\\sigma(z)}{dz} = \\frac{\\sigma(z)-y}{\\sigma(z)(1-\\sigma(z))} \\cdot \\sigma(z)(1-\\sigma(z)) = \\sigma(z) - y\n",
        "$$\n",
        "\n",
        "y por tanto el $\\frac{dJ}{dz}$ coincide con el del modelo de regresión lineal cuando se utiliza el error cuadrático medio como función de pérdida, además de ahorrar muchas cuentas.\n"
      ]
    },
    {
      "cell_type": "code",
      "metadata": {
        "id": "uVajVFplotQz"
      },
      "source": [
        "import numpy as np\n",
        "import matplotlib.pyplot as plt\n",
        "from sklearn.model_selection import train_test_split"
      ],
      "execution_count": null,
      "outputs": []
    },
    {
      "cell_type": "code",
      "metadata": {
        "id": "IKjB_YcyyLIE"
      },
      "source": [
        "# random seeds\n",
        "rng_seed = 1234"
      ],
      "execution_count": null,
      "outputs": []
    },
    {
      "cell_type": "code",
      "metadata": {
        "colab": {
          "base_uri": "https://localhost:8080/"
        },
        "id": "Dmu3uk7uxKMF",
        "outputId": "ad3478a9-a764-4c1d-d527-83b86061c44b"
      },
      "source": [
        "# datos\n",
        "from sklearn.datasets import load_breast_cancer\n",
        "X, Y = load_breast_cancer(return_X_y=True)\n",
        "\n",
        "# separamos en set de train y test\n",
        "X_train, X_test, Y_train, Y_test = train_test_split(X, Y, test_size=0.3, random_state=rng_seed)\n",
        "\n",
        "n_rows = X_train.shape[0]\n",
        "dims = X_train.shape[1]\n",
        "\n",
        "n_rows, dims"
      ],
      "execution_count": null,
      "outputs": [
        {
          "output_type": "execute_result",
          "data": {
            "text/plain": [
              "(398, 30)"
            ]
          },
          "metadata": {},
          "execution_count": 56
        }
      ]
    },
    {
      "cell_type": "code",
      "metadata": {
        "colab": {
          "base_uri": "https://localhost:8080/"
        },
        "id": "Kh5ecgC2vxWz",
        "outputId": "7bd9b324-4b0a-4c48-c04b-898313d0bc56"
      },
      "source": [
        "# inicialización\n",
        "rng = np.random.default_rng(rng_seed)\n",
        "\n",
        "w = rng.standard_normal(size=(dims)) * 0.01\n",
        "b = rng.uniform(size=1)\n",
        "\n",
        "w,b"
      ],
      "execution_count": null,
      "outputs": [
        {
          "output_type": "execute_result",
          "data": {
            "text/plain": [
              "(array([-0.01603837,  0.000641  ,  0.00740891,  0.00152619,  0.00863744,\n",
              "         0.02913099, -0.01478823,  0.00945473, -0.01666135,  0.00343745,\n",
              "        -0.00512444,  0.01323759, -0.0086028 ,  0.00519493, -0.01265144,\n",
              "        -0.02159139,  0.00434734,  0.01733289,  0.00520134, -0.01002166,\n",
              "         0.00268346,  0.00767175,  0.01191272, -0.01157411,  0.00696279,\n",
              "         0.00351384, -0.00032415,  0.00013182, -0.0067925 , -0.00620532]),\n",
              " array([0.73581899]))"
            ]
          },
          "metadata": {},
          "execution_count": 57
        }
      ]
    },
    {
      "cell_type": "code",
      "metadata": {
        "id": "sPYXQR4EokI_",
        "colab": {
          "base_uri": "https://localhost:8080/"
        },
        "outputId": "ecb3d194-e8ad-4eaa-e85c-e14be9d87df0"
      },
      "source": [
        "w,b"
      ],
      "execution_count": null,
      "outputs": [
        {
          "output_type": "execute_result",
          "data": {
            "text/plain": [
              "(array([-0.01603837,  0.000641  ,  0.00740891,  0.00152619,  0.00863744,\n",
              "         0.02913099, -0.01478823,  0.00945473, -0.01666135,  0.00343745,\n",
              "        -0.00512444,  0.01323759, -0.0086028 ,  0.00519493, -0.01265144,\n",
              "        -0.02159139,  0.00434734,  0.01733289,  0.00520134, -0.01002166,\n",
              "         0.00268346,  0.00767175,  0.01191272, -0.01157411,  0.00696279,\n",
              "         0.00351384, -0.00032415,  0.00013182, -0.0067925 , -0.00620532]),\n",
              " array([0.73581899]))"
            ]
          },
          "metadata": {},
          "execution_count": 58
        }
      ]
    },
    {
      "cell_type": "code",
      "metadata": {
        "colab": {
          "base_uri": "https://localhost:8080/"
        },
        "id": "by0bRhXV0w_U",
        "outputId": "6b36346a-3439-417b-e5b0-5e6f9a602361"
      },
      "source": [
        "# pre-train validation error\n",
        "\n",
        "# aprovechamos propiedades y vectorización para hacer las cosas más rápido\n",
        "# X es (n_rows, dims)\n",
        "# w es (dims,1)\n",
        "# b es (,) (escalar)\n",
        "def val_error(X_val,Y_val,w,b):\n",
        "  Z = X_val @ w.reshape((w.size,1)) + b\n",
        "  Y_hat = 1./(1+np.exp(-Z))\n",
        "\n",
        "  Y_val = Y_val.reshape((Y_val.size,1))\n",
        "\n",
        "  log_loss_v = Y_val * np.log(Y_hat) + (1-Y_val)* np.log(1-Y_hat)\n",
        "\n",
        "  #print(f\"log_loss fun has shape {log_loss_v.shape} and Y_val has shape {Y_val.shape} and Y_hat has shape {Y_hat.shape}\")\n",
        "\n",
        "  return -np.average(log_loss_v)\n",
        "\n",
        "print(f\"Pre-train average loss: {val_error(X_test,Y_test,w,b)}\")"
      ],
      "execution_count": null,
      "outputs": [
        {
          "output_type": "stream",
          "name": "stdout",
          "text": [
            "Pre-train average loss: 1.9783711582850736\n"
          ]
        }
      ]
    },
    {
      "cell_type": "markdown",
      "source": [
        "## Sin estandarizar"
      ],
      "metadata": {
        "id": "29FF7zaGXfyA"
      }
    },
    {
      "cell_type": "code",
      "metadata": {
        "colab": {
          "base_uri": "https://localhost:8080/"
        },
        "id": "OcUbeHC5wZ6c",
        "outputId": "a7371702-3f08-4acc-e7a8-9a5ef508100b"
      },
      "source": [
        "# run\n",
        "n_runs = 10        # cuántas veces correr el ciclo\n",
        "lr = 0.001         # learning rate del VGD, tuneable\n",
        "\n",
        "\n",
        "for i in range(n_runs):\n",
        "\n",
        "  # sample para SGD\n",
        "  idx = rng.choice(n_rows)\n",
        "  x = X_train[idx]\n",
        "  y = Y_train[idx]\n",
        "\n",
        "  # forward\n",
        "  z = w @ x + b\n",
        "  y_hat = 1./(1+np.exp(-z))\n",
        "\n",
        "  # evaluation\n",
        "  print(f\"{i+1}-th run average validation loss: {val_error(X_test,Y_test,w,b)}\")\n",
        "\n",
        "  # backwards\n",
        "  ## derivatives\n",
        "  # notacion (convencional?) decir dz significa dL/dz\n",
        "  dz = y_hat - y\n",
        "  dw = x * dz\n",
        "  db = dz\n",
        "\n",
        "  ## vanilla gradient descent (VGD)\n",
        "  w -= lr * dw\n",
        "  b -= lr * db"
      ],
      "execution_count": null,
      "outputs": [
        {
          "output_type": "stream",
          "name": "stdout",
          "text": [
            "1-th run average validation loss: 1.9783711582850736\n",
            "2-th run average validation loss: nan\n",
            "3-th run average validation loss: nan\n",
            "4-th run average validation loss: nan\n",
            "5-th run average validation loss: nan\n",
            "6-th run average validation loss: nan\n",
            "7-th run average validation loss: nan\n",
            "8-th run average validation loss: nan\n",
            "9-th run average validation loss: nan\n",
            "10-th run average validation loss: nan\n"
          ]
        },
        {
          "output_type": "stream",
          "name": "stderr",
          "text": [
            "/usr/local/lib/python3.7/dist-packages/ipykernel_launcher.py:13: RuntimeWarning: divide by zero encountered in log\n",
            "  del sys.path[0]\n",
            "/usr/local/lib/python3.7/dist-packages/ipykernel_launcher.py:13: RuntimeWarning: invalid value encountered in multiply\n",
            "  del sys.path[0]\n",
            "/usr/local/lib/python3.7/dist-packages/ipykernel_launcher.py:9: RuntimeWarning: overflow encountered in exp\n",
            "  if __name__ == '__main__':\n",
            "/usr/local/lib/python3.7/dist-packages/ipykernel_launcher.py:15: RuntimeWarning: overflow encountered in exp\n",
            "  from ipykernel import kernelapp as app\n"
          ]
        }
      ]
    },
    {
      "cell_type": "markdown",
      "metadata": {
        "id": "-0gdD6gDBr6B"
      },
      "source": [
        "¿Qué pasó? Está dando error desde la primer actualización de los parámetros! A ver las salidas..."
      ]
    },
    {
      "cell_type": "code",
      "metadata": {
        "colab": {
          "base_uri": "https://localhost:8080/"
        },
        "id": "EPCCnYwSB9tE",
        "outputId": "0fb8411c-f49e-44e1-ae09-0ceb0e6558e5"
      },
      "source": [
        "# chequeo de los parámetros, nada raro por aquí\n",
        "w,b"
      ],
      "execution_count": null,
      "outputs": [
        {
          "output_type": "execute_result",
          "data": {
            "text/plain": [
              "(array([-9.44993022e-04,  2.41410356e-02,  9.35744806e-02,  2.57760978e-01,\n",
              "         8.75463393e-03,  2.89903293e-02, -1.50761182e-02,  9.36166269e-03,\n",
              "        -1.63706911e-02,  3.54150759e-03, -4.98708292e-03,  1.45055822e-02,\n",
              "        -8.89534482e-03, -6.83756090e-04, -1.26492452e-02, -2.16430881e-02,\n",
              "         4.29173374e-03,  1.73286726e-02,  5.23236312e-03, -1.00222740e-02,\n",
              "         1.75756242e-02,  2.90353542e-02,  8.79926045e-02,  1.53289795e-01,\n",
              "         7.07174880e-03,  2.83988644e-03, -1.16651719e-03, -8.94947389e-05,\n",
              "        -6.43296459e-03, -6.13924909e-03]), array([0.73774624]))"
            ]
          },
          "metadata": {},
          "execution_count": 61
        }
      ]
    },
    {
      "cell_type": "code",
      "metadata": {
        "colab": {
          "base_uri": "https://localhost:8080/"
        },
        "id": "rmRbzqUPhvh5",
        "outputId": "c7595390-45d7-484b-85c4-30d100911002"
      },
      "source": [
        "# sólo la transformación afin\n",
        "Z__ = (X_test @ w.reshape((w.size,1)) + b).round(3).flatten()\n",
        "Z__"
      ],
      "execution_count": null,
      "outputs": [
        {
          "output_type": "execute_result",
          "data": {
            "text/plain": [
              "array([ 208.644,  170.056,  230.158,  133.995,  273.659,  240.978,\n",
              "        349.749,  111.704,  532.468,  479.48 ,  632.073,  321.46 ,\n",
              "        223.355,  359.293,  204.667,  600.629,  218.596,  129.119,\n",
              "        202.387,  424.388,  271.392,  458.834,  610.411,  915.51 ,\n",
              "        671.876,  302.418,  309.561,  195.138,  181.655,  233.628,\n",
              "        249.169,  220.224,  576.539,  240.895,  175.091,  302.821,\n",
              "        163.316,  386.095,  369.044,  152.706,  461.111,  184.243,\n",
              "        605.808,  234.399,  241.647,  121.214,  172.184,  295.236,\n",
              "        712.781,  278.741,  291.741,  318.738,  207.675,  639.759,\n",
              "        410.736,  231.657,  123.624,  168.36 ,  221.983,  437.532,\n",
              "        311.292,  146.106,  276.41 ,  156.326,  249.095,  445.552,\n",
              "        596.848,  190.024,  188.364,  285.365,  131.896,  424.721,\n",
              "        111.982,  219.648,  271.235,  147.685,  160.139,  622.725,\n",
              "        185.741,  341.925,  211.615,  237.584,  374.957,  336.188,\n",
              "        450.844,  425.317,  472.881,  610.059,  328.173,  307.8  ,\n",
              "        158.414,  212.523,  151.85 ,  689.746,  358.515,  138.968,\n",
              "        257.742,  220.421,  119.167,  187.635,  603.476,  535.31 ,\n",
              "        174.461,  136.823,  442.488,  180.13 ,  224.332,  392.981,\n",
              "        303.165,  208.696,  523.074,  288.637,  318.677, 1338.706,\n",
              "        249.27 ,  180.287,  222.379,  284.902,  158.427,  377.476,\n",
              "        177.839,  279.756,  184.139,  179.399,  657.821,  278.385,\n",
              "        306.926,  478.048,  167.191,   89.937,  332.994,  241.215,\n",
              "        926.603,  191.891,  350.541,  275.608,  262.258,  298.453,\n",
              "        163.273,  257.555,  133.971,  771.874,  308.708,  357.151,\n",
              "        273.538,  234.628,  358.028,  268.91 ,  354.413,  301.987,\n",
              "        198.096,  192.507,  578.758,  149.743,  188.784,  424.593,\n",
              "        316.077,  593.865,  725.985,  305.406,  209.3  ,  257.634,\n",
              "        541.278,  183.77 ,  211.744,  363.542,  197.135,  283.044,\n",
              "        229.578,  226.674,  384.914])"
            ]
          },
          "metadata": {},
          "execution_count": 62
        }
      ]
    },
    {
      "cell_type": "code",
      "metadata": {
        "colab": {
          "base_uri": "https://localhost:8080/"
        },
        "id": "6UhnNrFOgb8-",
        "outputId": "b0b84bf6-1da2-466f-a137-8e73ab4df0e8"
      },
      "source": [
        "(1./(1+np.exp(-Z__))).round(4).flatten()"
      ],
      "execution_count": null,
      "outputs": [
        {
          "output_type": "execute_result",
          "data": {
            "text/plain": [
              "array([1., 1., 1., 1., 1., 1., 1., 1., 1., 1., 1., 1., 1., 1., 1., 1., 1.,\n",
              "       1., 1., 1., 1., 1., 1., 1., 1., 1., 1., 1., 1., 1., 1., 1., 1., 1.,\n",
              "       1., 1., 1., 1., 1., 1., 1., 1., 1., 1., 1., 1., 1., 1., 1., 1., 1.,\n",
              "       1., 1., 1., 1., 1., 1., 1., 1., 1., 1., 1., 1., 1., 1., 1., 1., 1.,\n",
              "       1., 1., 1., 1., 1., 1., 1., 1., 1., 1., 1., 1., 1., 1., 1., 1., 1.,\n",
              "       1., 1., 1., 1., 1., 1., 1., 1., 1., 1., 1., 1., 1., 1., 1., 1., 1.,\n",
              "       1., 1., 1., 1., 1., 1., 1., 1., 1., 1., 1., 1., 1., 1., 1., 1., 1.,\n",
              "       1., 1., 1., 1., 1., 1., 1., 1., 1., 1., 1., 1., 1., 1., 1., 1., 1.,\n",
              "       1., 1., 1., 1., 1., 1., 1., 1., 1., 1., 1., 1., 1., 1., 1., 1., 1.,\n",
              "       1., 1., 1., 1., 1., 1., 1., 1., 1., 1., 1., 1., 1., 1., 1., 1., 1.,\n",
              "       1.])"
            ]
          },
          "metadata": {},
          "execution_count": 63
        }
      ]
    },
    {
      "cell_type": "markdown",
      "metadata": {
        "id": "pUs8MiKREJum"
      },
      "source": [
        "Como se puede apreciar, al haber 1s (o 0s) absolutos el log(0) genera un $\\infty$, que a su vez provoca un overflow.\n",
        "\n",
        "¿Es un problema de alguna columna que tiene rangos muy grandes? Si así lo fuera, estandarizar las columnas debería resolver el problema."
      ]
    },
    {
      "cell_type": "markdown",
      "source": [
        "## Con estandarización"
      ],
      "metadata": {
        "id": "H5i6m4-vXikp"
      }
    },
    {
      "cell_type": "code",
      "metadata": {
        "id": "BktuevpYFKh8"
      },
      "source": [
        "def standardize_cols(mat, mean=None, std=None):\n",
        "  if mean is None:\n",
        "    mean = mat.mean(axis=0)\n",
        "  mat -= mean\n",
        "\n",
        "  if std is None:\n",
        "    std = mat.std(axis=0)\n",
        "  mat /= std\n",
        "\n",
        "  return mat, mean, std\n",
        "\n",
        "\n",
        "# estandarizamos el X_train\n",
        "X_train_std, means, stds = standardize_cols(X_train.copy())\n",
        "\n",
        "# aplicamos la misma transf al set de test\n",
        "X_test_std, _, _ = standardize_cols(X_test.copy(), mean=means, std=stds)"
      ],
      "execution_count": null,
      "outputs": []
    },
    {
      "cell_type": "code",
      "metadata": {
        "colab": {
          "base_uri": "https://localhost:8080/"
        },
        "id": "VKlJfP8LEswb",
        "outputId": "88e6fa46-e2c8-416c-ee5a-2d8e1f77505c"
      },
      "source": [
        "# reiniciamos todo y volvemos a correr\n",
        "w = rng.standard_normal(size=(dims)) * 0.01\n",
        "b = rng.uniform(size=1)\n",
        "\n",
        "for i in range(n_runs):\n",
        "\n",
        "  # sample para SGD\n",
        "  idx = rng.choice(n_rows)\n",
        "  x = X_train_std[idx]\n",
        "  y = Y_train[idx]\n",
        "\n",
        "  # forward\n",
        "  z = w @ x + b\n",
        "  y_hat = 1./(1+np.exp(-z))\n",
        "\n",
        "  # evaluation\n",
        "  #if (i+1)%100 == 0:\n",
        "    #print(f\"True value was {y}, predicted {y_hat}\")\n",
        "  print(f\"{i+1}-th run average validation loss: {val_error(X_test_std,Y_test,w,b)}\")\n",
        "\n",
        "  # backwards\n",
        "  ## derivatives\n",
        "  dz = y_hat - y\n",
        "  dw = x * dz\n",
        "  db = dz\n",
        "\n",
        "  ## vanilla gradient descent (VGD)\n",
        "  w -= lr * dw\n",
        "  b -= lr * db"
      ],
      "execution_count": null,
      "outputs": [
        {
          "output_type": "stream",
          "name": "stdout",
          "text": [
            "1-th run average validation loss: 0.6627188154688625\n",
            "2-th run average validation loss: 0.6614727591724989\n",
            "3-th run average validation loss: 0.6598975174465603\n",
            "4-th run average validation loss: 0.6558568955183526\n",
            "5-th run average validation loss: 0.6550884974272456\n",
            "6-th run average validation loss: 0.6537527985033906\n",
            "7-th run average validation loss: 0.6513263776313882\n",
            "8-th run average validation loss: 0.6466013160761442\n",
            "9-th run average validation loss: 0.6459354632837864\n",
            "10-th run average validation loss: 0.6447594228555885\n"
          ]
        }
      ]
    },
    {
      "cell_type": "markdown",
      "metadata": {
        "id": "1VcyWG_eHdmw"
      },
      "source": [
        "Bien! Parece que hemos resuelto el problema. Probemos con un learning rate un poco mayor, de 0.01 (10x) y 500 runs en vez de 10"
      ]
    },
    {
      "cell_type": "code",
      "metadata": {
        "colab": {
          "base_uri": "https://localhost:8080/"
        },
        "id": "O1jptxRrHosj",
        "outputId": "52151bb1-da10-46b9-db4b-444df36408e2"
      },
      "source": [
        "# reiniciamos todo para mostrar la evolución desde 0\n",
        "w = rng.standard_normal(size=(dims)) * 0.01\n",
        "b = rng.uniform(size=1)\n",
        "\n",
        "\n",
        "lr = 0.01\n",
        "n_runs = 500\n",
        "\n",
        "historic_loss = np.empty(n_runs)\n",
        "\n",
        "for i in range(n_runs):\n",
        "\n",
        "  # sample para SGD\n",
        "  idx = rng.choice(n_rows)\n",
        "  x = X_train_std[idx]\n",
        "  y = Y_train[idx]\n",
        "\n",
        "  # forward\n",
        "  z = w @ x + b\n",
        "  y_hat = 1./(1+np.exp(-z))\n",
        "\n",
        "  # evaluation\n",
        "  historic_loss[i] = val_error(X_test_std,Y_test,w,b)\n",
        "  print(f\"{i+1}-th run average validation loss: {historic_loss[i]}\")\n",
        "\n",
        "  # backwards\n",
        "  ## derivatives\n",
        "  dz = y_hat - y\n",
        "  dw = x * dz\n",
        "  db = dz\n",
        "  #print(f\"x shape: {x.shape}\")\n",
        "  #print(f\"w shape: {w.shape}\")\n",
        "  #print(f\"b shape: {b.shape}\")\n",
        "  #print(f\"dz shape: {dz.shape}\")\n",
        "  #print(f\"dw shape: {dw.shape}\")\n",
        "  #print(f\"db shape: {db.shape}\")\n",
        "\n",
        "  ## vanilla gradient descent (VGD)\n",
        "  w -= lr * dw\n",
        "  b -= lr * db"
      ],
      "execution_count": null,
      "outputs": [
        {
          "output_type": "stream",
          "name": "stdout",
          "text": [
            "1-th run average validation loss: 0.7021425612547277\n",
            "2-th run average validation loss: 0.6919461811402946\n",
            "3-th run average validation loss: 0.6926797245179349\n",
            "4-th run average validation loss: 0.6764288112641761\n",
            "5-th run average validation loss: 0.6333933963067228\n",
            "6-th run average validation loss: 0.6273436305244069\n",
            "7-th run average validation loss: 0.6234231998716562\n",
            "8-th run average validation loss: 0.5984748357232469\n",
            "9-th run average validation loss: 0.597486583702435\n",
            "10-th run average validation loss: 0.5907285573747616\n",
            "11-th run average validation loss: 0.5848347559690876\n",
            "12-th run average validation loss: 0.550262817741479\n",
            "13-th run average validation loss: 0.5458451144125307\n",
            "14-th run average validation loss: 0.535800205963334\n",
            "15-th run average validation loss: 0.5298383581258073\n",
            "16-th run average validation loss: 0.5300771093051724\n",
            "17-th run average validation loss: 0.5262646146272848\n",
            "18-th run average validation loss: 0.5099860338433476\n",
            "19-th run average validation loss: 0.508881339035301\n",
            "20-th run average validation loss: 0.5031423980481967\n",
            "21-th run average validation loss: 0.4966783057196031\n",
            "22-th run average validation loss: 0.49003308375700283\n",
            "23-th run average validation loss: 0.48403080533508225\n",
            "24-th run average validation loss: 0.47718972727643544\n",
            "25-th run average validation loss: 0.4793157805398774\n",
            "26-th run average validation loss: 0.47849248038034325\n",
            "27-th run average validation loss: 0.4756617369359823\n",
            "28-th run average validation loss: 0.4708667337796649\n",
            "29-th run average validation loss: 0.45811538004196134\n",
            "30-th run average validation loss: 0.4543587994445518\n",
            "31-th run average validation loss: 0.43958850362755203\n",
            "32-th run average validation loss: 0.4367784773509716\n",
            "33-th run average validation loss: 0.43488146956359286\n",
            "34-th run average validation loss: 0.43292892728821086\n",
            "35-th run average validation loss: 0.43275240693297745\n",
            "36-th run average validation loss: 0.42853898186270817\n",
            "37-th run average validation loss: 0.4251835514568606\n",
            "38-th run average validation loss: 0.42178930506282536\n",
            "39-th run average validation loss: 0.4153214465052634\n",
            "40-th run average validation loss: 0.4139152285509425\n",
            "41-th run average validation loss: 0.41085255332095205\n",
            "42-th run average validation loss: 0.40182656192200356\n",
            "43-th run average validation loss: 0.4000858820765894\n",
            "44-th run average validation loss: 0.3984438520808393\n",
            "45-th run average validation loss: 0.3968918364802948\n",
            "46-th run average validation loss: 0.3947441848565856\n",
            "47-th run average validation loss: 0.38969874568843\n",
            "48-th run average validation loss: 0.3880014428436413\n",
            "49-th run average validation loss: 0.38545780768505855\n",
            "50-th run average validation loss: 0.3839112656644627\n",
            "51-th run average validation loss: 0.3820187331313839\n",
            "52-th run average validation loss: 0.3781640517134413\n",
            "53-th run average validation loss: 0.3705281851957347\n",
            "54-th run average validation loss: 0.3687380675377309\n",
            "55-th run average validation loss: 0.36745196597132374\n",
            "56-th run average validation loss: 0.3613385524717511\n",
            "57-th run average validation loss: 0.3607909860514018\n",
            "58-th run average validation loss: 0.3595853469855921\n",
            "59-th run average validation loss: 0.35332752741294576\n",
            "60-th run average validation loss: 0.3521007172791051\n",
            "61-th run average validation loss: 0.35062531015818915\n",
            "62-th run average validation loss: 0.34638742584211607\n",
            "63-th run average validation loss: 0.34219142510104533\n",
            "64-th run average validation loss: 0.3416588774538277\n",
            "65-th run average validation loss: 0.33884067492846054\n",
            "66-th run average validation loss: 0.3344699142176252\n",
            "67-th run average validation loss: 0.3332848100042604\n",
            "68-th run average validation loss: 0.33036860247121924\n",
            "69-th run average validation loss: 0.32867544960226613\n",
            "70-th run average validation loss: 0.32522892951746807\n",
            "71-th run average validation loss: 0.3253517319497549\n",
            "72-th run average validation loss: 0.32307565092839663\n",
            "73-th run average validation loss: 0.32141013568861015\n",
            "74-th run average validation loss: 0.31957407847001856\n",
            "75-th run average validation loss: 0.31671587899597303\n",
            "76-th run average validation loss: 0.31597781796968183\n",
            "77-th run average validation loss: 0.3155503042680205\n",
            "78-th run average validation loss: 0.3149578536812651\n",
            "79-th run average validation loss: 0.31308269851971415\n",
            "80-th run average validation loss: 0.3122715271458314\n",
            "81-th run average validation loss: 0.3096078922237333\n",
            "82-th run average validation loss: 0.3085083939507401\n",
            "83-th run average validation loss: 0.30620035684771274\n",
            "84-th run average validation loss: 0.30551210615137614\n",
            "85-th run average validation loss: 0.30316206331286366\n",
            "86-th run average validation loss: 0.3044889832943092\n",
            "87-th run average validation loss: 0.3041565211757358\n",
            "88-th run average validation loss: 0.30324599783813927\n",
            "89-th run average validation loss: 0.3030026193664472\n",
            "90-th run average validation loss: 0.3000035522121502\n",
            "91-th run average validation loss: 0.30026110409413254\n",
            "92-th run average validation loss: 0.2986375129848772\n",
            "93-th run average validation loss: 0.29768764602913067\n",
            "94-th run average validation loss: 0.297452045393285\n",
            "95-th run average validation loss: 0.29739513895173075\n",
            "96-th run average validation loss: 0.2959525219562617\n",
            "97-th run average validation loss: 0.2965995684861719\n",
            "98-th run average validation loss: 0.2961977478973745\n",
            "99-th run average validation loss: 0.29393570637054295\n",
            "100-th run average validation loss: 0.2950922691717599\n",
            "101-th run average validation loss: 0.29509518796252004\n",
            "102-th run average validation loss: 0.2948841483325683\n",
            "103-th run average validation loss: 0.2931808917703128\n",
            "104-th run average validation loss: 0.29297105327593137\n",
            "105-th run average validation loss: 0.29275658248140496\n",
            "106-th run average validation loss: 0.2913443443343551\n",
            "107-th run average validation loss: 0.2908557237863813\n",
            "108-th run average validation loss: 0.290630609592898\n",
            "109-th run average validation loss: 0.2910335269291681\n",
            "110-th run average validation loss: 0.290586509256563\n",
            "111-th run average validation loss: 0.29044801640526546\n",
            "112-th run average validation loss: 0.2897707786384734\n",
            "113-th run average validation loss: 0.2897703408339822\n",
            "114-th run average validation loss: 0.2891584461913233\n",
            "115-th run average validation loss: 0.2887789536492644\n",
            "116-th run average validation loss: 0.28634022280744925\n",
            "117-th run average validation loss: 0.28467273991762215\n",
            "118-th run average validation loss: 0.2799659067248404\n",
            "119-th run average validation loss: 0.2798325954624604\n",
            "120-th run average validation loss: 0.2793141290616718\n",
            "121-th run average validation loss: 0.27904835498917635\n",
            "122-th run average validation loss: 0.27888508258595496\n",
            "123-th run average validation loss: 0.2793919011858067\n",
            "124-th run average validation loss: 0.2787802246163109\n",
            "125-th run average validation loss: 0.2784833614863875\n",
            "126-th run average validation loss: 0.2777966932129977\n",
            "127-th run average validation loss: 0.2774563233342872\n",
            "128-th run average validation loss: 0.27725922162135386\n",
            "129-th run average validation loss: 0.2753984658110599\n",
            "130-th run average validation loss: 0.27472968883150306\n",
            "131-th run average validation loss: 0.2758750545211958\n",
            "132-th run average validation loss: 0.2756654995623302\n",
            "133-th run average validation loss: 0.274738272712804\n",
            "134-th run average validation loss: 0.274794198951811\n",
            "135-th run average validation loss: 0.27389591608348357\n",
            "136-th run average validation loss: 0.27379912187201394\n",
            "137-th run average validation loss: 0.2737432112640038\n",
            "138-th run average validation loss: 0.27417209503074735\n",
            "139-th run average validation loss: 0.27390676189025337\n",
            "140-th run average validation loss: 0.2738101947300522\n",
            "141-th run average validation loss: 0.2738132786610785\n",
            "142-th run average validation loss: 0.2738578597477954\n",
            "143-th run average validation loss: 0.27444199040570433\n",
            "144-th run average validation loss: 0.2751369203063346\n",
            "145-th run average validation loss: 0.2751234106191593\n",
            "146-th run average validation loss: 0.27437628292399585\n",
            "147-th run average validation loss: 0.2749266801955527\n",
            "148-th run average validation loss: 0.27181061216038976\n",
            "149-th run average validation loss: 0.2713032571538375\n",
            "150-th run average validation loss: 0.2714338386412583\n",
            "151-th run average validation loss: 0.2713291728278897\n",
            "152-th run average validation loss: 0.2712970797807204\n",
            "153-th run average validation loss: 0.27034437967976677\n",
            "154-th run average validation loss: 0.2706314798873308\n",
            "155-th run average validation loss: 0.2704675731518949\n",
            "156-th run average validation loss: 0.2704376653776625\n",
            "157-th run average validation loss: 0.27032898377253717\n",
            "158-th run average validation loss: 0.2709074647714683\n",
            "159-th run average validation loss: 0.27088593880420764\n",
            "160-th run average validation loss: 0.26915977836507377\n",
            "161-th run average validation loss: 0.26887215180353596\n",
            "162-th run average validation loss: 0.2699562537738777\n",
            "163-th run average validation loss: 0.2701266109437983\n",
            "164-th run average validation loss: 0.26999798109469997\n",
            "165-th run average validation loss: 0.26983194700053875\n",
            "166-th run average validation loss: 0.2691030696733659\n",
            "167-th run average validation loss: 0.26416600440300075\n",
            "168-th run average validation loss: 0.2636756234105864\n",
            "169-th run average validation loss: 0.26227014931064807\n",
            "170-th run average validation loss: 0.2592185281841074\n",
            "171-th run average validation loss: 0.2592084978422213\n",
            "172-th run average validation loss: 0.2566155869554708\n",
            "173-th run average validation loss: 0.25722582132448296\n",
            "174-th run average validation loss: 0.256818648028034\n",
            "175-th run average validation loss: 0.25188634513225855\n",
            "176-th run average validation loss: 0.2519938641527738\n",
            "177-th run average validation loss: 0.25210907013623296\n",
            "178-th run average validation loss: 0.2520096861628264\n",
            "179-th run average validation loss: 0.2519642023882073\n",
            "180-th run average validation loss: 0.2510509229838788\n",
            "181-th run average validation loss: 0.25125312652313725\n",
            "182-th run average validation loss: 0.25064330953167085\n",
            "183-th run average validation loss: 0.25149258909421135\n",
            "184-th run average validation loss: 0.2505443133612072\n",
            "185-th run average validation loss: 0.2502141331170004\n",
            "186-th run average validation loss: 0.25019549753840836\n",
            "187-th run average validation loss: 0.24925557732417675\n",
            "188-th run average validation loss: 0.24894062597753175\n",
            "189-th run average validation loss: 0.24947215781243748\n",
            "190-th run average validation loss: 0.24948575998395375\n",
            "191-th run average validation loss: 0.24934291503310402\n",
            "192-th run average validation loss: 0.2493328307363499\n",
            "193-th run average validation loss: 0.24978313854839218\n",
            "194-th run average validation loss: 0.24893282796049424\n",
            "195-th run average validation loss: 0.2449768337066669\n",
            "196-th run average validation loss: 0.244644594071489\n",
            "197-th run average validation loss: 0.24467281876553534\n",
            "198-th run average validation loss: 0.24484012733304736\n",
            "199-th run average validation loss: 0.24498749865696998\n",
            "200-th run average validation loss: 0.24504701575340715\n",
            "201-th run average validation loss: 0.24481098154940104\n",
            "202-th run average validation loss: 0.24452728740406876\n",
            "203-th run average validation loss: 0.24478563408930498\n",
            "204-th run average validation loss: 0.24426282789717466\n",
            "205-th run average validation loss: 0.2434883110699615\n",
            "206-th run average validation loss: 0.24261421954569803\n",
            "207-th run average validation loss: 0.24251030496691345\n",
            "208-th run average validation loss: 0.24294913761270714\n",
            "209-th run average validation loss: 0.24321979824553872\n",
            "210-th run average validation loss: 0.2431541377409814\n",
            "211-th run average validation loss: 0.2423598833831264\n",
            "212-th run average validation loss: 0.24197351421005928\n",
            "213-th run average validation loss: 0.24178994032724968\n",
            "214-th run average validation loss: 0.23761800386282173\n",
            "215-th run average validation loss: 0.23756416723364773\n",
            "216-th run average validation loss: 0.23752493501349708\n",
            "217-th run average validation loss: 0.23657590188276273\n",
            "218-th run average validation loss: 0.23603211013973854\n",
            "219-th run average validation loss: 0.23623138695678206\n",
            "220-th run average validation loss: 0.2362139287579269\n",
            "221-th run average validation loss: 0.2354828430113333\n",
            "222-th run average validation loss: 0.23565751256507683\n",
            "223-th run average validation loss: 0.23570668048999963\n",
            "224-th run average validation loss: 0.2357323335867198\n",
            "225-th run average validation loss: 0.2356756727399481\n",
            "226-th run average validation loss: 0.23555112420803312\n",
            "227-th run average validation loss: 0.23547530382198936\n",
            "228-th run average validation loss: 0.23280745647954465\n",
            "229-th run average validation loss: 0.23318441870590542\n",
            "230-th run average validation loss: 0.2340429046930779\n",
            "231-th run average validation loss: 0.23439692929410283\n",
            "232-th run average validation loss: 0.23442254231437612\n",
            "233-th run average validation loss: 0.23439244032445788\n",
            "234-th run average validation loss: 0.23417774355939378\n",
            "235-th run average validation loss: 0.23378511589408085\n",
            "236-th run average validation loss: 0.23377223365031966\n",
            "237-th run average validation loss: 0.23368220698633424\n",
            "238-th run average validation loss: 0.2336799531134095\n",
            "239-th run average validation loss: 0.23273101636311294\n",
            "240-th run average validation loss: 0.23275858417256376\n",
            "241-th run average validation loss: 0.23256310837825703\n",
            "242-th run average validation loss: 0.23246467921077607\n",
            "243-th run average validation loss: 0.23237959487128038\n",
            "244-th run average validation loss: 0.2325831948654646\n",
            "245-th run average validation loss: 0.23252066138536226\n",
            "246-th run average validation loss: 0.23265408298069554\n",
            "247-th run average validation loss: 0.23235084950164808\n",
            "248-th run average validation loss: 0.23217068545271968\n",
            "249-th run average validation loss: 0.23212217540477764\n",
            "250-th run average validation loss: 0.23215377201327078\n",
            "251-th run average validation loss: 0.2321004470061907\n",
            "252-th run average validation loss: 0.2320533590192549\n",
            "253-th run average validation loss: 0.2321109621084273\n",
            "254-th run average validation loss: 0.23234216454846204\n",
            "255-th run average validation loss: 0.2324583345079623\n",
            "256-th run average validation loss: 0.23260216368192763\n",
            "257-th run average validation loss: 0.23247853949885616\n",
            "258-th run average validation loss: 0.23253941625249558\n",
            "259-th run average validation loss: 0.23266857117891576\n",
            "260-th run average validation loss: 0.2325353307682955\n",
            "261-th run average validation loss: 0.23201558243480894\n",
            "262-th run average validation loss: 0.23201245007915153\n",
            "263-th run average validation loss: 0.2311429241333566\n",
            "264-th run average validation loss: 0.23113676447051867\n",
            "265-th run average validation loss: 0.23112043935151197\n",
            "266-th run average validation loss: 0.23102043787343193\n",
            "267-th run average validation loss: 0.2308964198146538\n",
            "268-th run average validation loss: 0.23088698630154456\n",
            "269-th run average validation loss: 0.23072393955303905\n",
            "270-th run average validation loss: 0.2310111038349822\n",
            "271-th run average validation loss: 0.23096973484418962\n",
            "272-th run average validation loss: 0.23094400038638277\n",
            "273-th run average validation loss: 0.23079792594588003\n",
            "274-th run average validation loss: 0.23067641354744206\n",
            "275-th run average validation loss: 0.22986500393453713\n",
            "276-th run average validation loss: 0.2300451703693599\n",
            "277-th run average validation loss: 0.22997169488811198\n",
            "278-th run average validation loss: 0.22992590269470511\n",
            "279-th run average validation loss: 0.2299436702688598\n",
            "280-th run average validation loss: 0.22995046696200608\n",
            "281-th run average validation loss: 0.22996435006220292\n",
            "282-th run average validation loss: 0.2293178174833796\n",
            "283-th run average validation loss: 0.2290158352054905\n",
            "284-th run average validation loss: 0.22901537745717448\n",
            "285-th run average validation loss: 0.22887256308946038\n",
            "286-th run average validation loss: 0.22868080576239302\n",
            "287-th run average validation loss: 0.22855845178073497\n",
            "288-th run average validation loss: 0.22905770639336528\n",
            "289-th run average validation loss: 0.22911859831032647\n",
            "290-th run average validation loss: 0.22911714915463155\n",
            "291-th run average validation loss: 0.2283319198442337\n",
            "292-th run average validation loss: 0.2284397900575075\n",
            "293-th run average validation loss: 0.22667745727984132\n",
            "294-th run average validation loss: 0.226826130444091\n",
            "295-th run average validation loss: 0.2264494252678243\n",
            "296-th run average validation loss: 0.22665560109118302\n",
            "297-th run average validation loss: 0.22675113891711474\n",
            "298-th run average validation loss: 0.22667665661316064\n",
            "299-th run average validation loss: 0.2217848055228812\n",
            "300-th run average validation loss: 0.22177931597592715\n",
            "301-th run average validation loss: 0.2218309088100413\n",
            "302-th run average validation loss: 0.22181462684551342\n",
            "303-th run average validation loss: 0.22039175503965072\n",
            "304-th run average validation loss: 0.22038271708342766\n",
            "305-th run average validation loss: 0.22018567566925373\n",
            "306-th run average validation loss: 0.22031963427650478\n",
            "307-th run average validation loss: 0.220334563121077\n",
            "308-th run average validation loss: 0.2201207397893716\n",
            "309-th run average validation loss: 0.22004502264246165\n",
            "310-th run average validation loss: 0.21976348292413478\n",
            "311-th run average validation loss: 0.22010790009693038\n",
            "312-th run average validation loss: 0.22031588522327436\n",
            "313-th run average validation loss: 0.22049281854687117\n",
            "314-th run average validation loss: 0.21905818729911875\n",
            "315-th run average validation loss: 0.2190356711178362\n",
            "316-th run average validation loss: 0.21876605413596495\n",
            "317-th run average validation loss: 0.2189383400261311\n",
            "318-th run average validation loss: 0.21919649783321157\n",
            "319-th run average validation loss: 0.21864575190714167\n",
            "320-th run average validation loss: 0.21842647252651776\n",
            "321-th run average validation loss: 0.21902997975594465\n",
            "322-th run average validation loss: 0.21905841396624923\n",
            "323-th run average validation loss: 0.21803044154491014\n",
            "324-th run average validation loss: 0.2179520107960487\n",
            "325-th run average validation loss: 0.2149597519339188\n",
            "326-th run average validation loss: 0.2149495148074977\n",
            "327-th run average validation loss: 0.21485630034710448\n",
            "328-th run average validation loss: 0.21476851278651182\n",
            "329-th run average validation loss: 0.21579298454154477\n",
            "330-th run average validation loss: 0.21579608972506983\n",
            "331-th run average validation loss: 0.21495742679080024\n",
            "332-th run average validation loss: 0.21489902691675788\n",
            "333-th run average validation loss: 0.21483441643199735\n",
            "334-th run average validation loss: 0.21494497270153853\n",
            "335-th run average validation loss: 0.21479993017019236\n",
            "336-th run average validation loss: 0.21486425038641635\n",
            "337-th run average validation loss: 0.2148846577249115\n",
            "338-th run average validation loss: 0.21549694619377693\n",
            "339-th run average validation loss: 0.21494181196564713\n",
            "340-th run average validation loss: 0.21461978735934817\n",
            "341-th run average validation loss: 0.21463209157529195\n",
            "342-th run average validation loss: 0.2145533480391869\n",
            "343-th run average validation loss: 0.2137253847189664\n",
            "344-th run average validation loss: 0.21364659069420072\n",
            "345-th run average validation loss: 0.21308042632924185\n",
            "346-th run average validation loss: 0.21320228707190475\n",
            "347-th run average validation loss: 0.21341367576381665\n",
            "348-th run average validation loss: 0.21379510697932\n",
            "349-th run average validation loss: 0.21379318658017843\n",
            "350-th run average validation loss: 0.2140137526363916\n",
            "351-th run average validation loss: 0.2140430376469445\n",
            "352-th run average validation loss: 0.2138005000337268\n",
            "353-th run average validation loss: 0.21370608875902153\n",
            "354-th run average validation loss: 0.2124530714976676\n",
            "355-th run average validation loss: 0.21238095240924576\n",
            "356-th run average validation loss: 0.2096314441271425\n",
            "357-th run average validation loss: 0.2088386243010123\n",
            "358-th run average validation loss: 0.2088900727070879\n",
            "359-th run average validation loss: 0.20902134136127518\n",
            "360-th run average validation loss: 0.20901742730828557\n",
            "361-th run average validation loss: 0.20900076360681788\n",
            "362-th run average validation loss: 0.2089276107715899\n",
            "363-th run average validation loss: 0.2087957277448492\n",
            "364-th run average validation loss: 0.2089515088589034\n",
            "365-th run average validation loss: 0.20908436565000926\n",
            "366-th run average validation loss: 0.2090772987399697\n",
            "367-th run average validation loss: 0.20956063145089215\n",
            "368-th run average validation loss: 0.20985630279172227\n",
            "369-th run average validation loss: 0.2098697687119441\n",
            "370-th run average validation loss: 0.20967587189280393\n",
            "371-th run average validation loss: 0.20979343189075264\n",
            "372-th run average validation loss: 0.2103185100511433\n",
            "373-th run average validation loss: 0.21042703198291182\n",
            "374-th run average validation loss: 0.21055141833786778\n",
            "375-th run average validation loss: 0.2105496490167437\n",
            "376-th run average validation loss: 0.21057113436429725\n",
            "377-th run average validation loss: 0.21057114178341196\n",
            "378-th run average validation loss: 0.21000607770413027\n",
            "379-th run average validation loss: 0.20993247053461908\n",
            "380-th run average validation loss: 0.20845781267096217\n",
            "381-th run average validation loss: 0.20863799838054803\n",
            "382-th run average validation loss: 0.2086714341018856\n",
            "383-th run average validation loss: 0.20837442902196668\n",
            "384-th run average validation loss: 0.20837590932877914\n",
            "385-th run average validation loss: 0.2092488604408656\n",
            "386-th run average validation loss: 0.2076188092057816\n",
            "387-th run average validation loss: 0.20788200731859763\n",
            "388-th run average validation loss: 0.20791278691277829\n",
            "389-th run average validation loss: 0.20757986916620164\n",
            "390-th run average validation loss: 0.20758643765836005\n",
            "391-th run average validation loss: 0.20758448637978605\n",
            "392-th run average validation loss: 0.2073398157376438\n",
            "393-th run average validation loss: 0.20727779032616264\n",
            "394-th run average validation loss: 0.20727361033938532\n",
            "395-th run average validation loss: 0.2072172999405064\n",
            "396-th run average validation loss: 0.20714213778019067\n",
            "397-th run average validation loss: 0.2073674998472095\n",
            "398-th run average validation loss: 0.20728535212988752\n",
            "399-th run average validation loss: 0.20774713111278714\n",
            "400-th run average validation loss: 0.2057363684705666\n",
            "401-th run average validation loss: 0.20379815867222917\n",
            "402-th run average validation loss: 0.2034580112769509\n",
            "403-th run average validation loss: 0.20330708555492907\n",
            "404-th run average validation loss: 0.20314038520832978\n",
            "405-th run average validation loss: 0.20306533447214353\n",
            "406-th run average validation loss: 0.2030791951878866\n",
            "407-th run average validation loss: 0.20332696204418108\n",
            "408-th run average validation loss: 0.20299280907900136\n",
            "409-th run average validation loss: 0.20301657365868964\n",
            "410-th run average validation loss: 0.20292286481863694\n",
            "411-th run average validation loss: 0.20297356792726468\n",
            "412-th run average validation loss: 0.20315606383929966\n",
            "413-th run average validation loss: 0.2032067049546023\n",
            "414-th run average validation loss: 0.20323852154990688\n",
            "415-th run average validation loss: 0.20320978164484216\n",
            "416-th run average validation loss: 0.20319604325759627\n",
            "417-th run average validation loss: 0.20311359235492432\n",
            "418-th run average validation loss: 0.2023100163593823\n",
            "419-th run average validation loss: 0.20226018106527993\n",
            "420-th run average validation loss: 0.2023928656010264\n",
            "421-th run average validation loss: 0.20237583095592984\n",
            "422-th run average validation loss: 0.20237436547959772\n",
            "423-th run average validation loss: 0.20233449412734358\n",
            "424-th run average validation loss: 0.20220626997592805\n",
            "425-th run average validation loss: 0.20228599099758818\n",
            "426-th run average validation loss: 0.202285896431368\n",
            "427-th run average validation loss: 0.20224572581944644\n",
            "428-th run average validation loss: 0.20300441096579658\n",
            "429-th run average validation loss: 0.20317025891928223\n",
            "430-th run average validation loss: 0.203242604602322\n",
            "431-th run average validation loss: 0.20326838188216403\n",
            "432-th run average validation loss: 0.20359542979681086\n",
            "433-th run average validation loss: 0.20360038983063247\n",
            "434-th run average validation loss: 0.20353383738756864\n",
            "435-th run average validation loss: 0.20341664826171893\n",
            "436-th run average validation loss: 0.20339886251406694\n",
            "437-th run average validation loss: 0.20354734862382207\n",
            "438-th run average validation loss: 0.20349760892068394\n",
            "439-th run average validation loss: 0.20418157493133354\n",
            "440-th run average validation loss: 0.20346736027682555\n",
            "441-th run average validation loss: 0.2028933150324602\n",
            "442-th run average validation loss: 0.20314750975771997\n",
            "443-th run average validation loss: 0.203151566880728\n",
            "444-th run average validation loss: 0.20314799913302678\n",
            "445-th run average validation loss: 0.2032267385429827\n",
            "446-th run average validation loss: 0.20296125899431566\n",
            "447-th run average validation loss: 0.2029532531364902\n",
            "448-th run average validation loss: 0.20297067119090317\n",
            "449-th run average validation loss: 0.20278687256463013\n",
            "450-th run average validation loss: 0.20017939406600857\n",
            "451-th run average validation loss: 0.20018218969425128\n",
            "452-th run average validation loss: 0.20053116831189396\n",
            "453-th run average validation loss: 0.20048389176708686\n",
            "454-th run average validation loss: 0.2006521631794922\n",
            "455-th run average validation loss: 0.20063127597174502\n",
            "456-th run average validation loss: 0.20114058835969578\n",
            "457-th run average validation loss: 0.20113976755897048\n",
            "458-th run average validation loss: 0.20007902954309878\n",
            "459-th run average validation loss: 0.20015592750148328\n",
            "460-th run average validation loss: 0.19855681951353873\n",
            "461-th run average validation loss: 0.1985418324851126\n",
            "462-th run average validation loss: 0.19854077653362065\n",
            "463-th run average validation loss: 0.19823683453604377\n",
            "464-th run average validation loss: 0.19818964570216202\n",
            "465-th run average validation loss: 0.19594097580799796\n",
            "466-th run average validation loss: 0.19597719114635956\n",
            "467-th run average validation loss: 0.1958860643355233\n",
            "468-th run average validation loss: 0.1958833321963106\n",
            "469-th run average validation loss: 0.1960429157972195\n",
            "470-th run average validation loss: 0.1960815284734959\n",
            "471-th run average validation loss: 0.19527254483972617\n",
            "472-th run average validation loss: 0.19520206051229647\n",
            "473-th run average validation loss: 0.19638857493278777\n",
            "474-th run average validation loss: 0.1964131301340951\n",
            "475-th run average validation loss: 0.19640670444632494\n",
            "476-th run average validation loss: 0.19647582207004957\n",
            "477-th run average validation loss: 0.19632501430251895\n",
            "478-th run average validation loss: 0.19632223353324962\n",
            "479-th run average validation loss: 0.19629449335999644\n",
            "480-th run average validation loss: 0.19614491930723732\n",
            "481-th run average validation loss: 0.19562265826182218\n",
            "482-th run average validation loss: 0.19570259019321143\n",
            "483-th run average validation loss: 0.1957224099289955\n",
            "484-th run average validation loss: 0.1945926674566239\n",
            "485-th run average validation loss: 0.19464473088625353\n",
            "486-th run average validation loss: 0.1946447131630284\n",
            "487-th run average validation loss: 0.1949581081330881\n",
            "488-th run average validation loss: 0.19434093385887213\n",
            "489-th run average validation loss: 0.1943092434016955\n",
            "490-th run average validation loss: 0.19428354625746086\n",
            "491-th run average validation loss: 0.19414491866614242\n",
            "492-th run average validation loss: 0.19400981339508863\n",
            "493-th run average validation loss: 0.1936393224496909\n",
            "494-th run average validation loss: 0.19381200717019403\n",
            "495-th run average validation loss: 0.19379939350056552\n",
            "496-th run average validation loss: 0.1939360584182179\n",
            "497-th run average validation loss: 0.19509154735454098\n",
            "498-th run average validation loss: 0.19507650179527747\n",
            "499-th run average validation loss: 0.19510987789558362\n",
            "500-th run average validation loss: 0.19523819452081162\n"
          ]
        }
      ]
    },
    {
      "cell_type": "code",
      "metadata": {
        "colab": {
          "base_uri": "https://localhost:8080/"
        },
        "id": "HL1Tfk4E4afw",
        "outputId": "591dd950-889c-4274-b23f-46e9c54d373e"
      },
      "source": [
        "# post-train validation error\n",
        "print(f\"Post-train average loss: {val_error(X_test_std,Y_test,w,b)}\")"
      ],
      "execution_count": null,
      "outputs": [
        {
          "output_type": "stream",
          "name": "stdout",
          "text": [
            "Post-train average loss: 0.19513941834192855\n"
          ]
        }
      ]
    },
    {
      "cell_type": "code",
      "metadata": {
        "colab": {
          "base_uri": "https://localhost:8080/",
          "height": 639
        },
        "id": "m-5H_fJvKL3p",
        "outputId": "67b626cd-0fa9-4cb0-8a55-07d54b3b64b3"
      },
      "source": [
        "fig, ax = plt.subplots(figsize=(10,10))\n",
        "\n",
        "ax.plot(historic_loss, color='red')\n",
        "ax.set_title(f\"Validation Log-loss para Logistic Regressor entrenado con SGD a α={lr}\")\n",
        "ax.set_xlabel(\"Número de run\")\n",
        "ax.set_ylabel(\"LogLoss sobre set de validación\")\n",
        "\n",
        "ax.plot()"
      ],
      "execution_count": null,
      "outputs": [
        {
          "output_type": "execute_result",
          "data": {
            "text/plain": [
              "[]"
            ]
          },
          "metadata": {},
          "execution_count": 68
        },
        {
          "output_type": "display_data",
          "data": {
            "text/plain": [
              "<Figure size 720x720 with 1 Axes>"
            ],
            "image/png": "[encoded data removed]"
          },
          "metadata": {
            "needs_background": "light"
          }
        }
      ]
    },
    {
      "cell_type": "markdown",
      "metadata": {
        "id": "h4UXcy9QI2tI"
      },
      "source": [
        "¿Puede seguir mejorando? A explorar:\n",
        "\n",
        "* Distintos valores de *learning rate* $\\alpha$\n",
        "  * ¿Quién dice que debe ser constante?\n",
        "* Entrenar más el modelo (aumentar *n_runs*)\n",
        "* Sobre el final parecía no mejorar y \"rebotar un poco\" alrededor de $0.194$, esta variabilidad puede deberse al $\\alpha$ o también a la varianza introducida por usar SGD (estimación de gradiente sobre 1 observación).\n",
        "  * ¿Qué pasa si lo adaptamos para *mini-batch* o incluso *batch*?\n",
        "* ¿Encapsular en un objeto para no repetir código?"
      ]
    },
    {
      "cell_type": "markdown",
      "metadata": {
        "id": "xS9iuIxNL5gC"
      },
      "source": [
        "Charlando sobre la varianza del SGD, vamos a correr varios para observar este fenómeno.\n"
      ]
    },
    {
      "cell_type": "markdown",
      "source": [
        "## Diferentes runs"
      ],
      "metadata": {
        "id": "OvfBJDYRXsRy"
      }
    },
    {
      "cell_type": "code",
      "metadata": {
        "id": "j-YgjPVML4zQ"
      },
      "source": [
        "w = rng.standard_normal(size=(dims)) * 0.01\n",
        "b = rng.uniform(size=1)\n",
        "\n",
        "def get_historic_loss(w_base,b_base,rng, n_runs, lr):\n",
        "  w = w_base.copy()\n",
        "  b = b_base.copy()\n",
        "\n",
        "  historic_loss = np.empty(n_runs)\n",
        "\n",
        "  for i in range(n_runs):\n",
        "\n",
        "    # sample para SGD\n",
        "    idx = rng.choice(n_rows)\n",
        "    x = X_train_std[idx]\n",
        "    y = Y_train[idx]\n",
        "\n",
        "    # forward\n",
        "    z = w @ x + b\n",
        "    y_hat = 1./(1+np.exp(-z))\n",
        "\n",
        "    # evaluation\n",
        "    historic_loss[i] = val_error(X_test_std,Y_test,w,b)\n",
        "\n",
        "    # backwards\n",
        "    ## derivatives\n",
        "    dz = y_hat - y\n",
        "    dw = x * dz\n",
        "    db = dz\n",
        "\n",
        "    ## vanilla gradient descent (VGD)\n",
        "    w -= lr * dw\n",
        "    b -= lr * db\n",
        "\n",
        "  return historic_loss\n",
        "\n",
        "# obtenemos 5 historics con los mismos parámetros iniciales\n",
        "losses = [get_historic_loss(w,b,rng,n_runs,lr) for i in range(5)]"
      ],
      "execution_count": null,
      "outputs": []
    },
    {
      "cell_type": "code",
      "metadata": {
        "colab": {
          "base_uri": "https://localhost:8080/",
          "height": 893
        },
        "id": "XGECqZpjNCV2",
        "outputId": "1523e12e-ba48-41d1-bc8d-2ad898f38f49"
      },
      "source": [
        "fig, ax = plt.subplots(figsize=(15,15))\n",
        "\n",
        "# colores sacados de aca https://matplotlib.org/stable/gallery/color/named_colors.html\n",
        "colors = ['blue', 'green', 'chocolate', 'purple', 'orangered']\n",
        "\n",
        "assert len(colors) == len(losses)\n",
        "for loss,color in zip(losses,colors):\n",
        "  ax.plot(loss, color=color)\n",
        "ax.set_title(\"Validation Log-loss para Logistic Regressor entrenados con SGD, diferentes runs (mismos parámetros iniciales)\")\n",
        "ax.set_xlabel(\"Número de run\")\n",
        "ax.set_ylabel(\"LogLoss sobre set de validación\")\n",
        "\n",
        "plt.show()"
      ],
      "execution_count": null,
      "outputs": [
        {
          "output_type": "display_data",
          "data": {
            "text/plain": [
              "<Figure size 1080x1080 with 1 Axes>"
            ],
            "image/png": "[encoded data removed]"
          },
          "metadata": {
            "needs_background": "light"
          }
        }
      ]
    },
    {
      "cell_type": "markdown",
      "source": [
        "¿Y si estimamos utilizando promedios de 1/10 del dataset? ¿Cambian esas trayectorias?"
      ],
      "metadata": {
        "id": "GJjGmlCBiDrH"
      }
    },
    {
      "cell_type": "code",
      "source": [
        "w = rng.standard_normal(size=(dims)) * 0.01\n",
        "b = rng.uniform(size=1)\n",
        "\n",
        "def get_historic_loss_minibatch(w_base,b_base,rng, n_runs, lr, batch_frac):\n",
        "  w = w_base.copy()\n",
        "  b = b_base.copy()\n",
        "  batch_size = int(X_train_std.shape[0] * batch_frac)\n",
        "  print(f\"Usando minibatches de {batch_size} observaciones\")\n",
        "  historic_loss = np.empty(n_runs)\n",
        "\n",
        "  for i in range(n_runs):\n",
        "\n",
        "    # sample para SGD\n",
        "    idxs = rng.choice(n_rows, size=batch_size, replace=False)\n",
        "    assert len(idxs) == len(np.unique(idxs))\n",
        "    x = X_train_std[idxs]\n",
        "    y = Y_train[idxs]\n",
        "\n",
        "    # forward\n",
        "    z = w @ x.T + b\n",
        "    y_hat = 1./(1+np.exp(-z))\n",
        "\n",
        "    # evaluation\n",
        "    historic_loss[i] = val_error(X_test_std,Y_test,w,b)\n",
        "\n",
        "    # backwards\n",
        "    ## derivatives\n",
        "    dz = y_hat - y\n",
        "    dw = x.T @ dz\n",
        "    db = dz.mean()\n",
        "\n",
        "    ## vanilla gradient descent (VGD)\n",
        "    w -= lr * dw\n",
        "    b -= lr * db\n",
        "\n",
        "  return historic_loss\n",
        "\n",
        "# obtenemos 5 historics con los mismos parámetros iniciales\n",
        "losses = [get_historic_loss_minibatch(w,b,rng,n_runs,lr, batch_frac=0.1) for i in range(5)]"
      ],
      "metadata": {
        "colab": {
          "base_uri": "https://localhost:8080/"
        },
        "id": "hqqupN14mw1w",
        "outputId": "f83d5f10-6d9d-42e3-9b3c-f61f59f7791b"
      },
      "execution_count": null,
      "outputs": [
        {
          "output_type": "stream",
          "name": "stdout",
          "text": [
            "Usando minibatches de 39 observaciones\n",
            "Usando minibatches de 39 observaciones\n",
            "Usando minibatches de 39 observaciones\n",
            "Usando minibatches de 39 observaciones\n",
            "Usando minibatches de 39 observaciones\n"
          ]
        }
      ]
    },
    {
      "cell_type": "code",
      "source": [
        "fig, ax = plt.subplots(figsize=(15,15))\n",
        "\n",
        "# colores sacados de aca https://matplotlib.org/stable/gallery/color/named_colors.html\n",
        "colors = ['blue', 'green', 'chocolate', 'purple', 'orangered']\n",
        "\n",
        "assert len(colors) == len(losses)\n",
        "for loss,color in zip(losses,colors):\n",
        "  ax.plot(loss, color=color)\n",
        "ax.set_title(\"Validation Log-loss para Logistic Regressor entrenados con SGD (39 obs), diferentes runs (mismos parámetros iniciales)\")\n",
        "ax.set_xlabel(\"Número de run\")\n",
        "ax.set_ylabel(\"LogLoss sobre set de validación\")\n",
        "\n",
        "plt.show()"
      ],
      "metadata": {
        "colab": {
          "base_uri": "https://localhost:8080/",
          "height": 893
        },
        "id": "rJI758S3oCsy",
        "outputId": "cf78bf11-f413-4e8a-fd99-d99bbe0c7611"
      },
      "execution_count": null,
      "outputs": [
        {
          "output_type": "display_data",
          "data": {
            "text/plain": [
              "<Figure size 1080x1080 with 1 Axes>"
            ],
            "image/png": "[encoded data removed]"
          },
          "metadata": {
            "needs_background": "light"
          }
        }
      ]
    }
  ]
}