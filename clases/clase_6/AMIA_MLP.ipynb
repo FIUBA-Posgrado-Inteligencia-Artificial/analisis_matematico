{
  "nbformat": 4,
  "nbformat_minor": 0,
  "metadata": {
    "colab": {
      "provenance": []
    },
    "kernelspec": {
      "name": "python3",
      "display_name": "Python 3"
    },
    "language_info": {
      "name": "python"
    }
  },
  "cells": [
    {
      "cell_type": "markdown",
      "source": [
        "# Multilayer Perceptron (MLP)\n",
        "\n",
        "### Definición\n",
        "\n",
        "El [Multilayer Perceptron](https://en.wikipedia.org/wiki/Multilayer_perceptron) (*MLP*) es el tipo de red neuronal profunda (*ANN*, o simplemente *NN*) más simple que existe, en el cual se tienen $l$ capas *fully-connected*, esto es cada neurona de cada capa está conectada a todas las salidas de la capa anterior.\n",
        "\n",
        "Dicho de otra forma, si $x^{(i)}, y^{(i)}$ son la entrada y la salida de la capa $i$ respectivamente, entonces vale $x^{(i)} = y^{(i-1)}$ y además (omitiendo superíndices $i$):\n",
        "$$\n",
        "y = g(W \\cdot x + b)\n",
        "$$\n",
        "\n",
        "con $x^{(i)} \\in \\mathbb{R}^{n_{i-1}}, b^{(i)} \\in \\mathbb{R}^{n_i}, \\, W^{(i)} \\in \\mathbb{R}^{n_{i} \\times n_{i-1}}$ donde $n_i$ es la cantidad de neuronas de la capa $i$ y $g: \\mathbb{R} \\to \\mathbb{R}$ es una función no lineal que se aplica en paralelo a cada neurona.\n",
        "\n",
        "\n",
        "### Esquema de arquitectura\n",
        "\n",
        "![](https://www.researchgate.net/profile/Khaled-Assi-3/publication/344839529/figure/fig1/AS:949766045315078@1603453279430/Simplified-structure-of-MLP-NN.ppm)\n",
        "\n",
        "([*créditos*](https://www.researchgate.net/figure/Simplified-structure-of-MLP-NN_fig1_344839529))\n",
        "\n",
        "### Backpropagation\n",
        "\n",
        "El algoritmo que permite al MLP entrenarse es *backpropagation* por el cual, para una capa $i$ dada, y dado el gradiente de la función de costo respecto de la salida  $\\frac{dJ}{dy^{(i)}}$:\n",
        "\n",
        "1. Se computa $\\frac{dJ}{dW^{(i)}}$ el jacobiano de la función de costo respecto de la matriz de pesos $W$ de la capa\n",
        "2. Se computa $\\frac{dJ}{db^{(i)}}$ el gradiente de la función de costo respecto del vector de sesgos $b$ de la capa\n",
        "3. Se actualizan $W, b$  de acuerdo a cierta regla de actualización (por ejemplo Adam)\n",
        "4. Se computa y devuelve $\\frac{dJ}{dX^{(i)}}$ el gradiente de la función de costo respecto del vector de entrada, que resulta a su vez $\\frac{dJ}{dy^{(i-1)}}$, requerido por la siguiente capa (en orden inverso) para su actualización.\n",
        "\n",
        "La clave aquí resulta en que cada capa, provista de la derivada del gradiente del error respecto de su salida, puede calcular individualmente su actualización.\n",
        "\n",
        "### Predicción\n",
        "\n",
        "Predecir utilizando un vector de entrada $x$ es tan simple como calcular en forma secuencial la salida de cada capa empezando por la primera. La salida de la última capa será la predicción.\n",
        "\n",
        "### Entrenamiento\n",
        "\n",
        "Entrenar una red neuronal $M$ consiste en repetir un número de veces:\n",
        "\n",
        "1. Seleccionar un número $m$ de observaciones $X$\n",
        "2. Predecir $\\hat{Y}=M_\\theta(X)$ utilizando los pesos actuales $\\theta$\n",
        "3. Calcular la función de costo $J(\\theta) = \\frac{1}{m}\\sum_{i=1}^m\\mathcal{L}(Y_i, \\hat{Y}_i)$\n",
        "4. Propagar hacia atrás el error a partir de $\\frac{dJ}{d\\hat{Y}}$.\n",
        "\n",
        "Donde $m$ suele tomar valores $1$, $m_0 < N$ ó $N$ siendo los casos de *online*, *mini-batch* y *batch* learning respectivamente.\n",
        "\n",
        "\n"
      ],
      "metadata": {
        "id": "tGRbZybGqMrS"
      }
    },
    {
      "cell_type": "code",
      "source": [
        "# lo único que usamos realmente\n",
        "import numpy as np\n",
        "\n",
        "# ploteo\n",
        "import matplotlib.pyplot as plt\n",
        "import seaborn as sns\n",
        "\n",
        "# cargado de datasets\n",
        "from sklearn.datasets import fetch_california_housing\n"
      ],
      "metadata": {
        "id": "u7Sdk1PLqqoc"
      },
      "execution_count": null,
      "outputs": []
    },
    {
      "cell_type": "markdown",
      "source": [
        "## Clases base"
      ],
      "metadata": {
        "id": "ab3jE3ncqjCH"
      }
    },
    {
      "cell_type": "code",
      "execution_count": null,
      "metadata": {
        "id": "b3rKnGVeqItZ"
      },
      "outputs": [],
      "source": [
        "## La red propiamente dicha\n",
        "\n",
        "class MLP(object):\n",
        "  def __init__(self, dims, optimizer_factory, non_linearities, input_dim, rng_seed = None):\n",
        "    \"\"\"\n",
        "    Multilayer Perceptron class.\n",
        "\n",
        "    Params:\n",
        "    ===============\n",
        "    dims (list of int): list of number of neurons for each layer, including the output one.\n",
        "    optimizer_factory (callable): function which returns an Optimizer object upon call.\n",
        "    non_linearities (list of class): list of nonlinearities to be used after each layer, including the output one.\n",
        "    input_dim (int): dimension of an individual input.\n",
        "    rng_seed (int, optional): seed for initialization.\n",
        "\n",
        "    Note: non_linearities and dims must be of same length.\n",
        "    \"\"\"\n",
        "    # check lengths\n",
        "    if len(dims) != len(non_linearities):\n",
        "      raise ValueError(\"dims' and Non_linearities' lengths do not match\")\n",
        "\n",
        "    # initialize RNG\n",
        "    rng = np.random.default_rng(rng_seed)\n",
        "\n",
        "    # construct a list of Layers with matching dimension and non-linear activation function\n",
        "    in_dims = [input_dim] + dims[:-1]\n",
        "    self.layers = [Layer(n_in, n_out, non_linearity, optimizer_factory, rng)\n",
        "                    for n_in,n_out,non_linearity in zip(in_dims,dims, non_linearities)]\n",
        "\n",
        "\n",
        "  def predict(self, X):\n",
        "    \"\"\"\n",
        "    Produce a prediction for the n samples given in the form of a (input_dim, n) matrix.\n",
        "    Params:\n",
        "    ===============\n",
        "    X (float, shape: input_dim x n): matrix of n samples, each of input_dim dimension.\n",
        "    \"\"\"\n",
        "    # X can be interpreted as the output of a previous layer\n",
        "    prediction = X\n",
        "\n",
        "    # sequentially apply forward pass\n",
        "    for layer in self.layers:\n",
        "      prediction = layer.forward(prediction)\n",
        "\n",
        "    return prediction\n",
        "\n",
        "  def update(self, cost_gradient):\n",
        "    \"\"\"\n",
        "    Propagate the errors through the layers.\n",
        "    Params:\n",
        "    ===============\n",
        "    cost_gradient (float, shape: dims[-1] x 1)\n",
        "    \"\"\"\n",
        "\n",
        "    # cost gradient is the cost derivative wrt last layer\n",
        "    dY = cost_gradient\n",
        "\n",
        "    # sequentially apply backwards update, in reversed order\n",
        "    for layer in reversed(self.layers):\n",
        "      dY = layer.backwards(dY)\n",
        "\n",
        "  def __repr__(self):\n",
        "    # super hardcoded\n",
        "    return \"MLP with layer sizes: \"+ \"-\".join(str(layer.b.shape[0]) for layer in self.layers)"
      ]
    },
    {
      "cell_type": "code",
      "source": [
        "class Layer(object):\n",
        "  def __init__(self, n_in, n_out, non_linearity_class, optimizer_factory, rng):\n",
        "    self.activation = non_linearity_class()\n",
        "    self.optim = optimizer_factory()\n",
        "    self.w = rng.standard_normal(size=(n_out, n_in))  * 0.1 # W shape is (n_out,n_in)\n",
        "    self.b = rng.uniform(size=(n_out, 1))                   # b shape is (n_out, 1)\n",
        "\n",
        "    #print(f\"W= {self.w.shape}\")\n",
        "    #print(f\"b= {self.b.shape}\")\n",
        "    # this may help later :)\n",
        "    self.last_output = None\n",
        "    self.last_input = None\n",
        "\n",
        "  def forward(self, X):\n",
        "    self.last_input = X\n",
        "\n",
        "    z = self.w @ X + self.b\n",
        "\n",
        "    self.last_output = self.activation.f(z)\n",
        "\n",
        "    return self.last_output\n",
        "\n",
        "  def backwards(self, dY):\n",
        "\n",
        "    dz = dY * self.activation.df()\n",
        "\n",
        "    dW = dz @ self.last_input.T\n",
        "\n",
        "    db = np.sum(dz, axis=1, keepdims=True)\n",
        "\n",
        "    dX = self.w.T @ dz\n",
        "\n",
        "    self.w, self.b = self.optim.update(self.w, self.b, dW, db)\n",
        "\n",
        "    return dX"
      ],
      "metadata": {
        "id": "3WqPdPtMqvI-"
      },
      "execution_count": null,
      "outputs": []
    },
    {
      "cell_type": "code",
      "source": [
        "class NonLinearity(object):\n",
        "\n",
        "  def __init__(self):\n",
        "    self.last_z = None\n",
        "\n",
        "  def f(self, z):\n",
        "    raise NotImplementedError(\"function evaluation not implemented\")\n",
        "\n",
        "  def df(self):\n",
        "    raise NotImplementedError(\"function derivative not implemented\")"
      ],
      "metadata": {
        "id": "xn8GW2Xqq3dS"
      },
      "execution_count": null,
      "outputs": []
    },
    {
      "cell_type": "code",
      "source": [
        "class Relu(NonLinearity):\n",
        "\n",
        "  def __init__(self):\n",
        "    super().__init__()\n",
        "\n",
        "  def f(self,z):\n",
        "    self.last_z = z\n",
        "    return np.maximum(z,0)\n",
        "\n",
        "  def df(self):\n",
        "    return (self.last_z >= 0).astype(float)"
      ],
      "metadata": {
        "id": "T7nXXXPPq9A2"
      },
      "execution_count": null,
      "outputs": []
    },
    {
      "cell_type": "code",
      "source": [
        "class Identity(NonLinearity):\n",
        "\n",
        "  def __init__(self):\n",
        "    super().__init__()\n",
        "\n",
        "  def f(self,z):\n",
        "    self.last_z = z\n",
        "    return z\n",
        "\n",
        "  def df(self):\n",
        "    return np.ones_like(self.last_z)"
      ],
      "metadata": {
        "id": "eMd9xU9Tq-49"
      },
      "execution_count": null,
      "outputs": []
    },
    {
      "cell_type": "code",
      "source": [
        "class Optimizer(object):\n",
        "\n",
        "  def update(self, W, b, dW, db):\n",
        "    raise NotImplementedError(\"optimizer update rule not implemented\")"
      ],
      "metadata": {
        "id": "KGDmIrWCq_xw"
      },
      "execution_count": null,
      "outputs": []
    },
    {
      "cell_type": "code",
      "source": [
        "class VGD(Optimizer):\n",
        "\n",
        "  def __init__(self, learning_rate):\n",
        "    self.lr = learning_rate\n",
        "\n",
        "  def update(self, W_old, b_old, dW, db):\n",
        "    # vanilla GD: theta_t+1 = theta_t - alpha * gradient\n",
        "    W_new = W_old - self.lr * dW\n",
        "    b_new = b_old - self.lr * db\n",
        "\n",
        "    return W_new, b_new\n",
        "\n",
        "def factory_VGD(lr):\n",
        "  return lambda : VGD(lr)"
      ],
      "metadata": {
        "id": "Y8Iau1EArBVw"
      },
      "execution_count": null,
      "outputs": []
    },
    {
      "cell_type": "code",
      "source": [
        "class Cost(object):\n",
        "\n",
        "  def score(self, Y_true, Y_hat):\n",
        "    raise NotImplementedError(\"cost scoring function not implemented\")\n",
        "\n",
        "  def derivative(self, Y_true, Y_hat):\n",
        "    raise NotImplementedError(\"cost derivative function not implemented\")"
      ],
      "metadata": {
        "id": "0vr-YvQ8rC8b"
      },
      "execution_count": null,
      "outputs": []
    },
    {
      "cell_type": "code",
      "source": [
        "class MSE(Cost):\n",
        "\n",
        "  def score(self, Y_true, Y_hat):\n",
        "    return 0.5 * np.average(np.square(Y_true - Y_hat))\n",
        "\n",
        "  def derivative(self, Y_true, Y_hat):\n",
        "    return (Y_hat - Y_true) / Y_hat.size"
      ],
      "metadata": {
        "id": "SnxcGryVrEe5"
      },
      "execution_count": null,
      "outputs": []
    },
    {
      "cell_type": "code",
      "source": [
        "class MAE(Cost):\n",
        "\n",
        "  def score(self, Y_true, Y_hat):\n",
        "    return np.average(np.abs(Y_true - Y_hat))\n",
        "\n",
        "  def derivative(self, Y_true, Y_hat):\n",
        "    return np.sign(Y_hat - Y_true) / Y_hat.size"
      ],
      "metadata": {
        "id": "LlfZxjaCrGLI"
      },
      "execution_count": null,
      "outputs": []
    },
    {
      "cell_type": "code",
      "source": [
        "# training procedure\n",
        "\n",
        "def train_mlp(X_train, y_train, X_test, y_test, model, epochs, verbose=True):\n",
        "  train_costs_historic = np.empty(epochs, dtype=float)\n",
        "  test_costs_historic = np.empty(epochs, dtype=float)\n",
        "\n",
        "  for i in range(epochs):\n",
        "    # learning on full-batches, but this could be a mini-batch sampling procedure\n",
        "    x = X_train\n",
        "    y = y_train\n",
        "\n",
        "    ## note: as net saves last run, it's important that the run before the update is the train one\n",
        "    ## so... we predict on test first, then train :)\n",
        "    test_cost = loss.score(y_test,model.predict(X_test))\n",
        "\n",
        "    # forward pass\n",
        "    y_hat = model.predict(x)\n",
        "\n",
        "    # calculate costs\n",
        "    train_cost = loss.score(y, y_hat)\n",
        "\n",
        "\n",
        "    # save them, inform the train cost every 20 epochs\n",
        "    train_costs_historic[i] = train_cost\n",
        "    test_costs_historic[i] = test_cost\n",
        "\n",
        "    if((i+1) % 20 == 0) and verbose:\n",
        "      print(f\"Train cost on epoch {i+1} is {train_cost:5.3f}\")\n",
        "\n",
        "    # backwards pass\n",
        "    gradient = loss.derivative(y, y_hat)\n",
        "    model.update(gradient)\n",
        "\n",
        "  return train_costs_historic, test_costs_historic"
      ],
      "metadata": {
        "id": "D3JuMa-Yv09M"
      },
      "execution_count": null,
      "outputs": []
    },
    {
      "cell_type": "markdown",
      "source": [
        "## Aplicación"
      ],
      "metadata": {
        "id": "oE2okDY8sfeN"
      }
    },
    {
      "cell_type": "code",
      "source": [
        "# hiperparámetros\n",
        "\n",
        "lr = 0.001\n",
        "rng_seed = 6543\n",
        "epochs = 1000"
      ],
      "metadata": {
        "id": "bQa1nChdsbFL"
      },
      "execution_count": null,
      "outputs": []
    },
    {
      "cell_type": "code",
      "source": [
        "X_full, y_full = fetch_california_housing(return_X_y=True)\n",
        "y_full = y_full.reshape(y_full.shape[0],1)\n",
        "\n",
        "print(f\"X: {X_full.shape}, Y:{y_full.shape}\")"
      ],
      "metadata": {
        "colab": {
          "base_uri": "https://localhost:8080/"
        },
        "id": "Ed6wju8Bsivd",
        "outputId": "84f78e04-bf0e-4f5a-cdcc-6cf55c804f0d"
      },
      "execution_count": null,
      "outputs": [
        {
          "output_type": "stream",
          "name": "stdout",
          "text": [
            "X: (20640, 8), Y:(20640, 1)\n"
          ]
        }
      ]
    },
    {
      "cell_type": "code",
      "source": [
        "# preparing data, train - test validation\n",
        "# 70-30 split\n",
        "from sklearn.model_selection import train_test_split\n",
        "\n",
        "X_train, X_test, y_train, y_test = train_test_split(X_full, y_full, test_size=0.3, random_state=rng_seed)\n",
        "\n",
        "# traspose everything because this NN format assumes column vectors\n",
        "train_x = X_train.T\n",
        "train_y = y_train.T\n",
        "test_x = X_test.T\n",
        "test_y = y_test.T\n",
        "\n",
        "print(train_x.shape, train_y.shape, test_x.shape, test_y.shape)"
      ],
      "metadata": {
        "colab": {
          "base_uri": "https://localhost:8080/"
        },
        "id": "ubLB09KDskBU",
        "outputId": "bb3213eb-3691-40f2-de63-cb4ed8bea9e8"
      },
      "execution_count": null,
      "outputs": [
        {
          "output_type": "stream",
          "name": "stdout",
          "text": [
            "(8, 14448) (1, 14448) (8, 6192) (1, 6192)\n"
          ]
        }
      ]
    },
    {
      "cell_type": "markdown",
      "source": [
        "Usamos una red chiquita de 1 sola hidden layer"
      ],
      "metadata": {
        "id": "56iLW8VHs4cw"
      }
    },
    {
      "cell_type": "code",
      "source": [
        "# initialization\n",
        "\n",
        "loss = MSE()\n",
        "\n",
        "nn = MLP(\n",
        "    dims = [4,y_full.shape[1]],\n",
        "    optimizer_factory = factory_VGD(lr),\n",
        "    non_linearities = [Relu, Identity],\n",
        "    input_dim = X_full.shape[1],\n",
        "    rng_seed = rng_seed\n",
        ")\n",
        "\n",
        "nn"
      ],
      "metadata": {
        "colab": {
          "base_uri": "https://localhost:8080/"
        },
        "id": "PjWiv6Nksm8T",
        "outputId": "786f59ba-c2f7-47f1-f618-01f753c1f3c8"
      },
      "execution_count": null,
      "outputs": [
        {
          "output_type": "execute_result",
          "data": {
            "text/plain": [
              "MLP with layer sizes: 4-1"
            ]
          },
          "metadata": {},
          "execution_count": 103
        }
      ]
    },
    {
      "cell_type": "code",
      "source": [
        "train_costs_historic, test_costs_historic = train_mlp(X_train = train_x,\n",
        "                                                      y_train = train_y,\n",
        "                                                      X_test = test_x,\n",
        "                                                      y_test = test_y,\n",
        "                                                      model=nn,\n",
        "                                                      epochs=epochs)"
      ],
      "metadata": {
        "colab": {
          "base_uri": "https://localhost:8080/"
        },
        "id": "BvOKQaU6weGX",
        "outputId": "47a8f63f-3cb9-4c80-89f6-f8741b83a2ff"
      },
      "execution_count": null,
      "outputs": [
        {
          "output_type": "stream",
          "name": "stdout",
          "text": [
            "Train cost on epoch 20 is 1.680\n",
            "Train cost on epoch 40 is 1.638\n",
            "Train cost on epoch 60 is 1.598\n",
            "Train cost on epoch 80 is 1.560\n",
            "Train cost on epoch 100 is 1.524\n",
            "Train cost on epoch 120 is 1.489\n",
            "Train cost on epoch 140 is 1.456\n",
            "Train cost on epoch 160 is 1.424\n",
            "Train cost on epoch 180 is 1.394\n",
            "Train cost on epoch 200 is 1.365\n",
            "Train cost on epoch 220 is 1.337\n",
            "Train cost on epoch 240 is 1.310\n",
            "Train cost on epoch 260 is 1.284\n",
            "Train cost on epoch 280 is 1.260\n",
            "Train cost on epoch 300 is 1.236\n",
            "Train cost on epoch 320 is 1.213\n",
            "Train cost on epoch 340 is 1.192\n",
            "Train cost on epoch 360 is 1.171\n",
            "Train cost on epoch 380 is 1.151\n",
            "Train cost on epoch 400 is 1.132\n",
            "Train cost on epoch 420 is 1.113\n",
            "Train cost on epoch 440 is 1.096\n",
            "Train cost on epoch 460 is 1.079\n",
            "Train cost on epoch 480 is 1.062\n",
            "Train cost on epoch 500 is 1.047\n",
            "Train cost on epoch 520 is 1.032\n",
            "Train cost on epoch 540 is 1.017\n",
            "Train cost on epoch 560 is 1.003\n",
            "Train cost on epoch 580 is 0.990\n",
            "Train cost on epoch 600 is 0.977\n",
            "Train cost on epoch 620 is 0.965\n",
            "Train cost on epoch 640 is 0.953\n",
            "Train cost on epoch 660 is 0.942\n",
            "Train cost on epoch 680 is 0.931\n",
            "Train cost on epoch 700 is 0.921\n",
            "Train cost on epoch 720 is 0.911\n",
            "Train cost on epoch 740 is 0.901\n",
            "Train cost on epoch 760 is 0.892\n",
            "Train cost on epoch 780 is 0.883\n",
            "Train cost on epoch 800 is 0.874\n",
            "Train cost on epoch 820 is 0.866\n",
            "Train cost on epoch 840 is 0.858\n",
            "Train cost on epoch 860 is 0.851\n",
            "Train cost on epoch 880 is 0.844\n",
            "Train cost on epoch 900 is 0.837\n",
            "Train cost on epoch 920 is 0.830\n",
            "Train cost on epoch 940 is 0.824\n",
            "Train cost on epoch 960 is 0.817\n",
            "Train cost on epoch 980 is 0.812\n",
            "Train cost on epoch 1000 is 0.806\n"
          ]
        }
      ]
    },
    {
      "cell_type": "code",
      "source": [
        "plt.figure(figsize=(12,8))\n",
        "plt.plot(train_costs_historic, color='blue', label='train')\n",
        "plt.plot(test_costs_historic, color='red', label='test')\n",
        "plt.grid(True)\n",
        "plt.legend()\n",
        "plt.show()"
      ],
      "metadata": {
        "colab": {
          "base_uri": "https://localhost:8080/",
          "height": 676
        },
        "id": "a_VtQQ84uqgp",
        "outputId": "39e99a55-2eb7-4584-d81c-31fe07db7721"
      },
      "execution_count": null,
      "outputs": [
        {
          "output_type": "display_data",
          "data": {
            "text/plain": [
              "<Figure size 1200x800 with 1 Axes>"
            ],
            "image/png": "[encoded data removed]"
          },
          "metadata": {}
        }
      ]
    },
    {
      "cell_type": "code",
      "source": [
        "# first values are off scale, omit first 10\n",
        "omit_idx = 10\n",
        "idxs = range(omit_idx, len(train_costs_historic))\n",
        "plt.figure(figsize=(12,8))\n",
        "plt.plot(idxs, train_costs_historic[omit_idx:], color='blue', label='train')\n",
        "plt.plot(idxs, test_costs_historic[omit_idx:], color='red', label='test')\n",
        "plt.grid(True)\n",
        "plt.legend()\n",
        "plt.show()"
      ],
      "metadata": {
        "colab": {
          "base_uri": "https://localhost:8080/",
          "height": 676
        },
        "id": "Plut1blaswM8",
        "outputId": "a2cbc4a6-970d-42c5-f917-01db84440d90"
      },
      "execution_count": null,
      "outputs": [
        {
          "output_type": "display_data",
          "data": {
            "text/plain": [
              "<Figure size 1200x800 with 1 Axes>"
            ],
            "image/png": "[encoded data removed]"
          },
          "metadata": {}
        }
      ]
    },
    {
      "cell_type": "markdown",
      "source": [
        "Una red más grande con 2 hidden layers"
      ],
      "metadata": {
        "id": "D9ZIl37_tpBy"
      }
    },
    {
      "cell_type": "code",
      "source": [
        "# initialization\n",
        "\n",
        "loss = MSE()\n",
        "\n",
        "nn2 = MLP(\n",
        "    dims = [8,8,y_full.shape[1]],\n",
        "    optimizer_factory = factory_VGD(lr),\n",
        "    non_linearities = [Relu, Relu, Identity],\n",
        "    input_dim = X_full.shape[1],\n",
        "    rng_seed = rng_seed\n",
        ")\n",
        "\n",
        "nn2"
      ],
      "metadata": {
        "colab": {
          "base_uri": "https://localhost:8080/"
        },
        "id": "BmWEBzjLtrnD",
        "outputId": "a645b39d-ca4f-4e47-8e28-419bccd47feb"
      },
      "execution_count": null,
      "outputs": [
        {
          "output_type": "execute_result",
          "data": {
            "text/plain": [
              "MLP with layer sizes: 8-8-1"
            ]
          },
          "metadata": {},
          "execution_count": 107
        }
      ]
    },
    {
      "cell_type": "code",
      "source": [
        "train_costs_historic2, test_costs_historic2 = train_mlp(X_train = train_x,\n",
        "                                                      y_train = train_y,\n",
        "                                                      X_test = test_x,\n",
        "                                                      y_test = test_y,\n",
        "                                                      model=nn2,\n",
        "                                                      epochs=epochs,\n",
        "                                                      verbose=False)"
      ],
      "metadata": {
        "id": "-bRhtpXPuBtl"
      },
      "execution_count": null,
      "outputs": []
    },
    {
      "cell_type": "code",
      "source": [
        "omit_idx = 10\n",
        "idxs = range(omit_idx, len(train_costs_historic))\n",
        "plt.figure(figsize=(12,8))\n",
        "plt.plot(idxs, train_costs_historic2[omit_idx:], color='blue', label='train')\n",
        "plt.plot(idxs, test_costs_historic2[omit_idx:], color='red', label='test')\n",
        "plt.grid(True)\n",
        "plt.legend()\n",
        "plt.show()"
      ],
      "metadata": {
        "colab": {
          "base_uri": "https://localhost:8080/",
          "height": 54
        },
        "id": "7HTCI4eSuMZH",
        "outputId": "d32a4fdf-3e3c-4a73-cca7-1f9761cf0900"
      },
      "execution_count": null,
      "outputs": [
        {
          "output_type": "display_data",
          "data": {
            "text/plain": [
              "<Figure size 1200x800 with 1 Axes>"
            ],
            "image/png": "[encoded data removed]"
          },
          "metadata": {}
        }
      ]
    },
    {
      "cell_type": "code",
      "source": [
        "# compare both test MSEs\n",
        "\n",
        "omit_idx = 10\n",
        "idxs = range(omit_idx, len(train_costs_historic))\n",
        "plt.figure(figsize=(12,8))\n",
        "plt.plot(idxs, test_costs_historic[omit_idx:], color='blue', label='nn1')\n",
        "plt.plot(idxs, test_costs_historic2[omit_idx:], color='red', label='nn2')\n",
        "plt.grid(True)\n",
        "plt.legend()\n",
        "plt.show()"
      ],
      "metadata": {
        "colab": {
          "base_uri": "https://localhost:8080/",
          "height": 54
        },
        "id": "Oi6S_5eouzxn",
        "outputId": "3491db32-2125-4f04-8eed-245220541a0a"
      },
      "execution_count": null,
      "outputs": [
        {
          "output_type": "display_data",
          "data": {
            "text/plain": [
              "<Figure size 1200x800 with 1 Axes>"
            ],
            "image/png": "[encoded data removed]"
          },
          "metadata": {}
        }
      ]
    }
  ]
}